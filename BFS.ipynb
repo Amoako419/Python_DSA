{
 "cells": [
  {
   "cell_type": "code",
   "execution_count": 1,
   "metadata": {},
   "outputs": [
    {
     "name": "stdout",
     "output_type": "stream",
     "text": [
      "Amazon_Rainforest -> Congo_Basin -> Southeast_Asian_Rainforests -> Guinea_Rainforests -> New_Guinea_Rainforests -> Sundaland_Rainforests -> Wallacea_Rainforests -> Papua_New_Guinea_Rainforests -> Celebes_Rainforests\n"
     ]
    }
   ],
   "source": [
    "from collections import deque\n",
    "\n",
    "# Represents the forest as a dictionary\n",
    "forest = {\n",
    "    'Amazon_Rainforest': ['Congo_Basin', 'Southeast_Asian_Rainforests'],\n",
    "    'Congo_Basin': ['Guinea_Rainforests', 'New_Guinea_Rainforests'],\n",
    "    'Southeast_Asian_Rainforests': ['Sundaland_Rainforests', 'Wallacea_Rainforests'],\n",
    "    'Guinea_Rainforests': [],\n",
    "    'New_Guinea_Rainforests': ['Papua_New_Guinea_Rainforests'],\n",
    "    'Sundaland_Rainforests': [],\n",
    "    'Wallacea_Rainforests': ['Celebes_Rainforests'],\n",
    "    'Papua_New_Guinea_Rainforests': [],\n",
    "    'Celebes_Rainforests': []\n",
    "}\n",
    "\n",
    "def BFS(forest, root='Amazon_Rainforest'):\n",
    "    ''' BFS algorithm to visit all forests '''\n",
    "    queue = deque()  # Queue to hold forest regions\n",
    "    queue.append(root)  # Starting search from root\n",
    "    visited = []  # List to hold visited forests\n",
    "\n",
    "    while queue:\n",
    "        current_forest = queue.popleft()\n",
    "        visited.append(current_forest)  # Mark current forest as visited\n",
    "\n",
    "        # Queuing the forests not yet visited\n",
    "        if current_forest in forest:\n",
    "            for neighbouring_forest in forest[current_forest]:\n",
    "                if neighbouring_forest not in visited:\n",
    "                    queue.append(neighbouring_forest)\n",
    "    \n",
    "    return visited\n",
    "\n",
    "print(' -> '.join(BFS(forest, root='Amazon_Rainforest')))  # Using Amazon Rainforest as root"
   ]
  },
  {
   "cell_type": "code",
   "execution_count": 2,
   "metadata": {},
   "outputs": [
    {
     "name": "stdout",
     "output_type": "stream",
     "text": [
      "Saturn has been visited\n",
      "Mars has been visited\n",
      "Venus has been visited\n",
      "Mercury has been visited\n",
      "Jupiter has been visited\n",
      "Neptune has been visited\n",
      "Uranus has been visited\n",
      "Earth has been visited\n",
      "\n",
      "Order of visited planets:  ['Saturn', 'Mars', 'Venus', 'Mercury', 'Jupiter', 'Neptune', 'Uranus', 'Earth']\n"
     ]
    }
   ],
   "source": [
    "from collections import deque\n",
    "\n",
    "# Representing the tree as an adjacency list\n",
    "graph = {\n",
    "  'Mars' : ['Jupiter', 'Saturn'],\n",
    "  'Jupiter' : ['Mars', 'Neptune', 'Uranus'],\n",
    "  'Saturn' : ['Mars', 'Venus', 'Mercury'],\n",
    "  'Neptune' : ['Jupiter'],\n",
    "  'Uranus' : ['Jupiter', 'Earth'],\n",
    "  'Venus' : ['Saturn'],\n",
    "  'Mercury' : ['Saturn'],\n",
    "  'Earth' : ['Uranus']\n",
    "}\n",
    "\n",
    "# BFS Function\n",
    "def BFS(graph, root):\n",
    "    visited = [] # List to keep track of visited nodes\n",
    "    queue = deque()\n",
    "    queue.append(root) # Start with the root node\n",
    "\n",
    "    while queue: # While there are nodes to visit.\n",
    "        vertex = queue.popleft() # Visit the first node in the queue\n",
    "        print(f\"{vertex} has been visited\")\n",
    "        visited.append(vertex) # Add it to the visited nodes list\n",
    "\n",
    "        for neighbour in graph[vertex]: # Add all unvisited children to the queue\n",
    "            if neighbour not in visited:\n",
    "                queue.append(neighbour)\n",
    "    return visited\n",
    "\n",
    "print(\"\\nOrder of visited planets: \", BFS(graph, 'Saturn')) # Start at Mars"
   ]
  },
  {
   "cell_type": "code",
   "execution_count": 3,
   "metadata": {},
   "outputs": [
    {
     "name": "stdout",
     "output_type": "stream",
     "text": [
      "['1', '2', '3', '4', '5', '6', '7', '8', '9', '10', '11']\n"
     ]
    }
   ],
   "source": [
    "from collections import deque\n",
    "\n",
    "# Define BFS function\n",
    "def BFS(graph, root):\n",
    "    visited = [] # List to keep track of visited nodes\n",
    "    queue = deque() # A queue to add nodes for visiting\n",
    "    queue.append(root) # Start with the root node\n",
    "\n",
    "    while queue: # While there are nodes to visit.\n",
    "        vertex = queue.popleft() # Visit the first node in the queue\n",
    "        visited.append(vertex)\n",
    "\n",
    "        # Now add all unvisited children to the queue\n",
    "        for child in graph[vertex]:\n",
    "            if child not in visited:\n",
    "                queue.append(child)\n",
    "\n",
    "    return visited\n",
    "\n",
    "# Define the adjacency list of our graph\n",
    "graph = {\n",
    "    '1': ['2', '3', '4'],\n",
    "    '2': ['1', '5', '6'],\n",
    "    '3': ['1', '7', '8'],\n",
    "    '4': ['1', '9', '10'],\n",
    "    '5': ['2'],\n",
    "    '6': ['2', '11'],\n",
    "    '7': ['3'],\n",
    "    '8': ['3'],\n",
    "    '9': ['4'],\n",
    "    '10': ['4'],\n",
    "    '11': ['6']\n",
    "}\n",
    "\n",
    "# Call the BFS function\n",
    "print(BFS(graph, '1'))"
   ]
  },
  {
   "cell_type": "code",
   "execution_count": 4,
   "metadata": {},
   "outputs": [
    {
     "name": "stdout",
     "output_type": "stream",
     "text": [
      "\n",
      "Traversing completed!\n",
      "{'1': 0, '2': 1, '3': 1, '4': 1, '5': 2, '6': 2, '7': 2, '8': 2, '9': 2, '10': 3, '11': 3, '12': 3}\n"
     ]
    }
   ],
   "source": [
    "from collections import deque\n",
    "\n",
    "def BFS(graph, root):\n",
    "    visited = set()  # Using a set for visited to avoid duplicates\n",
    "    queue = deque([root])  # Start with the root in the queue\n",
    "    level = {root: 0}  # Initialize the level of the root to 0\n",
    "\n",
    "    while queue:\n",
    "        vertex = queue.popleft()  # Get the next node to process\n",
    "        visited.add(vertex)  # Mark it as visited\n",
    "\n",
    "        for child in graph[vertex]:  # Check all neighbors of the current node\n",
    "            if child not in visited and child not in queue:  # Process only unvisited nodes\n",
    "                queue.append(child)\n",
    "                level[child] = level[vertex] + 1  # Set the level of the child\n",
    "\n",
    "    print(\"\\nTraversing completed!\")\n",
    "    return level\n",
    "\n",
    "# Example graph\n",
    "graph = {\n",
    "  '1': ['2', '3', '4'],\n",
    "  '2': ['5', '6'],\n",
    "  '3': ['7'],\n",
    "  '4': ['8', '9'],\n",
    "  '5': [],\n",
    "  '6': ['10'],\n",
    "  '7': ['11', '12'],\n",
    "  '8': [],\n",
    "  '9': [],\n",
    "  '10': [],\n",
    "  '11': [],\n",
    "  '12': []\n",
    "}\n",
    "\n",
    "print(BFS(graph, '1'))\n"
   ]
  }
 ],
 "metadata": {
  "kernelspec": {
   "display_name": "base",
   "language": "python",
   "name": "python3"
  },
  "language_info": {
   "codemirror_mode": {
    "name": "ipython",
    "version": 3
   },
   "file_extension": ".py",
   "mimetype": "text/x-python",
   "name": "python",
   "nbconvert_exporter": "python",
   "pygments_lexer": "ipython3",
   "version": "3.11.7"
  }
 },
 "nbformat": 4,
 "nbformat_minor": 2
}
