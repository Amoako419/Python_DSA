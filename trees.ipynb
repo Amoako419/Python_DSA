{
 "cells": [
  {
   "cell_type": "code",
   "execution_count": 1,
   "metadata": {},
   "outputs": [
    {
     "name": "stdout",
     "output_type": "stream",
     "text": [
      "Visited -> HomePage\n",
      "Visited -> Google.com\n",
      "Visited -> Gmail.com\n",
      "Visited -> Youtube.com\n",
      "Visited -> CodeSignal.com\n",
      "Visited -> CodeSignal.com/Tour\n",
      "Visited -> CodeSignal.com/Blog\n"
     ]
    }
   ],
   "source": [
    "class TreeNode:\n",
    "    def __init__(self, value):\n",
    "        self.value = value\n",
    "        self.children = []\n",
    "\n",
    "    def add_child(self, child_node):\n",
    "        self.children.append(child_node)\n",
    "    \n",
    "    def remove_child(self, child_node):\n",
    "        self.children = [child for child in self.children if child is not child_node]\n",
    "\n",
    "# Create a Browser History as a Non-Binary Tree\n",
    "browser_history_root = TreeNode(\"HomePage\")\n",
    "\n",
    "google = TreeNode(\"Google.com\")\n",
    "youtube = TreeNode(\"Youtube.com\")\n",
    "codesignal = TreeNode(\"CodeSignal.com\")\n",
    "\n",
    "browser_history_root.add_child(google)\n",
    "browser_history_root.add_child(youtube)\n",
    "browser_history_root.add_child(codesignal)\n",
    "\n",
    "# Let's add some more\n",
    "gmail = TreeNode(\"Gmail.com\")\n",
    "google.add_child(gmail)\n",
    "\n",
    "codesignal_tour = TreeNode(\"CodeSignal.com/Tour\")\n",
    "codesignal_blog = TreeNode(\"CodeSignal.com/Blog\")\n",
    "codesignal.add_child(codesignal_tour)\n",
    "codesignal.add_child(codesignal_blog)\n",
    "\n",
    "# Function to print the Browser History Tree (i.e., Pre-order traversal)\n",
    "def print_history(node):\n",
    "    if node is None:\n",
    "        return\n",
    "    else:\n",
    "        print(f'Visited -> {node.value}')\n",
    "        for child in node.children:\n",
    "            print_history(child)\n",
    "\n",
    "print_history(browser_history_root)"
   ]
  },
  {
   "cell_type": "code",
   "execution_count": 2,
   "metadata": {},
   "outputs": [
    {
     "name": "stdout",
     "output_type": "stream",
     "text": [
      "Position -> CEO\n",
      "Position -> VP Marketing\n",
      "Position -> Director Marketing\n",
      "Position -> VP Finance\n",
      "Position -> VP Engineering\n",
      "Position -> Senior Engineer\n",
      "Position -> Engineer\n",
      "Position -> Product Manager\n"
     ]
    }
   ],
   "source": [
    "class TreeNode:\n",
    "    def __init__(self, value):\n",
    "        self.value = value\n",
    "        self.children = []\n",
    "\n",
    "    def add_child(self, child_node):\n",
    "        self.children.append(child_node)\n",
    "    \n",
    "    def remove_child(self, child_node):\n",
    "        self.children = [child for child in self.children if child is not child_node]\n",
    "\n",
    "# Define a Company Hierarchy as a Non-Binary Tree\n",
    "company_hierarchy_root = TreeNode(\"CEO\")\n",
    "\n",
    "vp_marketing = TreeNode(\"VP Marketing\")\n",
    "vp_finance = TreeNode(\"VP Finance\")\n",
    "vp_engineering = TreeNode(\"VP Engineering\")\n",
    "\n",
    "company_hierarchy_root.add_child(vp_marketing)\n",
    "company_hierarchy_root.add_child(vp_finance)\n",
    "company_hierarchy_root.add_child(vp_engineering)\n",
    "\n",
    "# Let's add some more\n",
    "director_marketing = TreeNode(\"Director Marketing\")\n",
    "vp_marketing.add_child(director_marketing)\n",
    "\n",
    "# new_hires = TreeNode(['Senior Engineer','Product Manager'])\n",
    "# vp_engineering.add_child(new_hires)\n",
    "senior_engineer = TreeNode('Senior Engineer')\n",
    "vp_engineering.add_child(senior_engineer)\n",
    "\n",
    "pm = TreeNode('Product Manager')\n",
    "vp_engineering.add_child(pm)\n",
    "\n",
    "engineer = TreeNode(\"Engineer\")\n",
    "senior_engineer.add_child(engineer)\n",
    "\n",
    "# Function to print the Company Hierarchy Tree (i.e., Pre-order traversal)\n",
    "def print_company_hierarchy(node):\n",
    "    if node is None:\n",
    "        return\n",
    "    else:\n",
    "        print(f'Position -> {node.value}')\n",
    "        for child in node.children:\n",
    "            print_company_hierarchy(child)\n",
    "\n",
    "# Print the company hierarchy\n",
    "print_company_hierarchy(company_hierarchy_root)\n"
   ]
  },
  {
   "cell_type": "code",
   "execution_count": 3,
   "metadata": {},
   "outputs": [
    {
     "name": "stdout",
     "output_type": "stream",
     "text": [
      "Position -> Apple\n",
      "Position -> Banana\n",
      "Position -> Date\n",
      "Position -> Elderberry\n",
      "Position -> Cherry\n",
      "Position -> Pear\n",
      "Position -> Grape\n"
     ]
    }
   ],
   "source": [
    "class TreeNode:\n",
    "    def __init__(self, value):\n",
    "        self.value = value\n",
    "        self.children = []\n",
    "\n",
    "    def add_child(self, child_node):\n",
    "        self.children.append(child_node)\n",
    "    \n",
    "    def remove_child(self, child_node):\n",
    "        self.children = [child for child in self.children if child is not child_node]\n",
    "\n",
    "# Define the tree\n",
    "tree_root = TreeNode('Apple')\n",
    "root_left = TreeNode('Banana')\n",
    "root_right = TreeNode('Cherry')\n",
    "tree_root.add_child(root_left)\n",
    "tree_root.add_child(root_right)\n",
    "\n",
    "root_left.add_child(TreeNode('Date'))\n",
    "root_left.add_child(TreeNode('Elderberry'))\n",
    "\n",
    "root_right.add_child(TreeNode('Pear'))\n",
    "root_right.add_child(TreeNode('Grape'))\n",
    "\n",
    "# TODO: Add a plum under pear\n",
    "\n",
    "def print_tree(node):\n",
    "    # TODO: print the whole tree, first printing the root, and then all its children recursively\n",
    "    if node is None:\n",
    "        return\n",
    "    else:\n",
    "        print(f'Position -> {node.value}')\n",
    "        for child in node.children:\n",
    "            print_tree(child)\n",
    "    pass\n",
    "\n",
    "print_tree(tree_root)"
   ]
  },
  {
   "cell_type": "code",
   "execution_count": 4,
   "metadata": {},
   "outputs": [
    {
     "name": "stdout",
     "output_type": "stream",
     "text": [
      "Position -> Apple\n",
      "Position -> Banana\n",
      "Position -> Date\n",
      "Position -> Elderberry\n",
      "Position -> Cherry\n",
      "Position -> Pear\n",
      "Position -> Plum\n",
      "Position -> Grape\n"
     ]
    }
   ],
   "source": [
    "class TreeNode:\n",
    "    def __init__(self, value):\n",
    "        self.value = value\n",
    "        self.children = []\n",
    "\n",
    "    def add_child(self, child_node):\n",
    "        self.children.append(child_node)\n",
    "    \n",
    "    def remove_child(self, child_node):\n",
    "        self.children = [child for child in self.children if child is not child_node]\n",
    "\n",
    "# Define the tree\n",
    "tree_root = TreeNode('Apple')\n",
    "root_left = TreeNode('Banana')\n",
    "root_right = TreeNode('Cherry')\n",
    "tree_root.add_child(root_left)\n",
    "tree_root.add_child(root_right)\n",
    "\n",
    "root_left.add_child(TreeNode('Date'))\n",
    "root_left.add_child(TreeNode('Elderberry'))\n",
    "\n",
    "root_right.add_child(TreeNode('Pear'))\n",
    "root_right.add_child(TreeNode('Grape'))\n",
    "root_right.children[0].add_child(TreeNode('Plum'))\n",
    "\n",
    "# TODO: Add a plum under pear\n",
    "\n",
    "def print_tree(node):\n",
    "    # TODO: print the whole tree, first printing the root, and then all its children recursively\n",
    "    if node is None:\n",
    "        return\n",
    "    else:\n",
    "        print(f'Position -> {node.value}')\n",
    "        for child in node.children:\n",
    "            print_tree(child)\n",
    "    pass\n",
    "\n",
    "print_tree(tree_root)"
   ]
  },
  {
   "cell_type": "code",
   "execution_count": 5,
   "metadata": {},
   "outputs": [
    {
     "name": "stdout",
     "output_type": "stream",
     "text": [
      "4-> 2-> 5-> 1-> 6-> 3-> "
     ]
    }
   ],
   "source": [
    "# TODO: Define your Node class\n",
    "class Node():\n",
    "    def __init__(self,value):\n",
    "        self.value = value\n",
    "        self.left = None\n",
    "        self.right = None \n",
    "# TODO: Define a binary tree using your Node class\n",
    "root = Node(1)\n",
    "root.left = Node(2)\n",
    "root.right = Node(3)\n",
    "root.left.left = Node(4)\n",
    "root.left.right = Node(5)\n",
    "root.right.left = Node(6)\n",
    "\n",
    "\n",
    "# TODO: Implement a function to perform in-order traversal\n",
    "def in_order_traversal(node):\n",
    "    if node is None:\n",
    "        return \n",
    "    in_order_traversal(node.left)\n",
    "    print(str(node.value)+'->',end=\" \")\n",
    "    in_order_traversal(node.right)\n",
    "in_order_traversal(root)\n"
   ]
  },
  {
   "cell_type": "code",
   "execution_count": 6,
   "metadata": {},
   "outputs": [
    {
     "name": "stdout",
     "output_type": "stream",
     "text": [
      "DFS Traversal:\n",
      "Head Office -> Marketing -> SEO -> Content -> Sales -> Domestic -> International -> R&D -> end\n"
     ]
    }
   ],
   "source": [
    "class Node:\n",
    "    def __init__(self, value):\n",
    "        self.value = value\n",
    "        self.children = []\n",
    "\n",
    "def add_edges(tree, node, child_values):\n",
    "    for value in child_values:\n",
    "        node.children.append(Node(value))\n",
    "\n",
    "def dfs(node, visited=None):\n",
    "    if visited is None:\n",
    "        visited = set()\n",
    "    \n",
    "    visited.add(node.value)\n",
    "    print(node.value, end=' -> ')\n",
    "\n",
    "    for child in node.children:\n",
    "        if child.value not in visited:\n",
    "            dfs(child, visited)\n",
    "\n",
    "# Constructing a tree\n",
    "root = Node('Head Office')\n",
    "add_edges(root, root, ['Marketing', 'Sales', 'R&D'])\n",
    "\n",
    "node_marketing = root.children[0]\n",
    "add_edges(root, node_marketing, ['SEO', 'Content'])\n",
    "\n",
    "node_sales = root.children[1]\n",
    "add_edges(root, node_sales, ['Domestic', 'International'])\n",
    "\n",
    "# Perform DFS traversal\n",
    "print(\"DFS Traversal:\")\n",
    "dfs(root)\n",
    "print(\"end\")"
   ]
  },
  {
   "cell_type": "code",
   "execution_count": 7,
   "metadata": {},
   "outputs": [
    {
     "name": "stdout",
     "output_type": "stream",
     "text": [
      "DFS Traversal of Planet's Continents:\n",
      "Earth -> Africa -> Nigeria -> South Africa -> Ghana -> Benin -> Asia -> China -> India -> South Korea -> North Korea -> end\n"
     ]
    }
   ],
   "source": [
    "class Node:\n",
    "    def __init__(self, value):\n",
    "        self.value = value\n",
    "        self.children = []\n",
    "        \n",
    "    def add_child(self, child_value):\n",
    "        self.children.append(Node(child_value))\n",
    "        \n",
    "    def depth_first_search(self, visited=None):\n",
    "        if visited is None:\n",
    "            visited = set()\n",
    "        visited.add(self.value)\n",
    "        print(self.value, end=' -> ')\n",
    "        for child in self.children:\n",
    "            if child.value not in visited:\n",
    "                child.depth_first_search()\n",
    "\n",
    "# Construct an imitation of a planet hierarchy\n",
    "root_node = Node('Earth')\n",
    "root_node.add_child('Africa')\n",
    "root_node.add_child('Asia')\n",
    "\n",
    "# Expand upon the countries in Africa\n",
    "africa = root_node.children[0]\n",
    "africa.add_child('Nigeria')\n",
    "africa.add_child('South Africa')\n",
    "africa.add_child('Ghana')\n",
    "africa.add_child('Benin')\n",
    "\n",
    "# Expand upon the countries in Asia\n",
    "asia = root_node.children[1]\n",
    "asia.add_child('China')\n",
    "asia.add_child('India')\n",
    "asia.add_child('South Korea')\n",
    "asia.add_child('North Korea')\n",
    "\n",
    "# Perform a depth-first search traversal starting from the root node\n",
    "print(\"DFS Traversal of Planet's Continents:\")\n",
    "root_node.depth_first_search()\n",
    "print(\"end\")"
   ]
  },
  {
   "cell_type": "code",
   "execution_count": 8,
   "metadata": {},
   "outputs": [
    {
     "name": "stdout",
     "output_type": "stream",
     "text": [
      "DFS Traversal of Company's Departments:\n",
      "CEO\n",
      "CTO\n",
      "Infrastructure\n",
      "App Development\n",
      "Security\n",
      "CFO\n",
      "Accounting\n",
      "Investor Relations\n",
      "COO\n"
     ]
    }
   ],
   "source": [
    "class DepartmentTree:\n",
    "    def __init__(self, name):\n",
    "        self.name = name\n",
    "        self.subdepartments = []\n",
    "        \n",
    "    def add_subdepartment(self, subdept_name):\n",
    "        self.subdepartments.append(DepartmentTree(subdept_name))\n",
    "        \n",
    "    def traverse(self, visited=None):\n",
    "        if visited is None:\n",
    "            visited = set()\n",
    "        print(self.name)\n",
    "        visited.add(self.name)\n",
    "        for child in self.subdepartments:\n",
    "            if child.name not in visited:\n",
    "                child.traverse(visited)\n",
    "\n",
    "        # TODO: Add logic here to complete the traversal of the department tree \n",
    "    \n",
    "\n",
    "# Build a representation of a company's hierarchy\n",
    "company_hierarchy = DepartmentTree(\"CEO\")\n",
    "company_hierarchy.add_subdepartment(\"CTO\")\n",
    "company_hierarchy.add_subdepartment(\"CFO\")\n",
    "company_hierarchy.add_subdepartment(\"COO\")\n",
    "\n",
    "# Expand the CTO's branch\n",
    "cto_branch = company_hierarchy.subdepartments[0]\n",
    "cto_branch.add_subdepartment(\"Infrastructure\")\n",
    "cto_branch.add_subdepartment(\"App Development\")\n",
    "cto_branch.add_subdepartment(\"Security\")\n",
    "\n",
    "# Expand the CFO's branch\n",
    "cfo_branch = company_hierarchy.subdepartments[1]\n",
    "cfo_branch.add_subdepartment(\"Accounting\")\n",
    "cfo_branch.add_subdepartment(\"Investor Relations\")\n",
    "\n",
    "# Now let's do a DFS traversal to print all departments\n",
    "print(\"DFS Traversal of Company's Departments:\")\n",
    "company_hierarchy.traverse() "
   ]
  },
  {
   "cell_type": "code",
   "execution_count": 1,
   "metadata": {},
   "outputs": [
    {
     "name": "stdout",
     "output_type": "stream",
     "text": [
      "Counter({'b': 4, 'a': 3, 'c': 3})\n"
     ]
    }
   ],
   "source": [
    "from collections import Counter\n",
    "\n",
    "data = ['a', 'b', 'c', 'b', 'b', 'c', 'a', 'b', 'c', 'a']\n",
    "\n",
    "count = Counter(data)\n",
    "\n",
    "print(count)"
   ]
  },
  {
   "cell_type": "markdown",
   "metadata": {},
   "source": []
  }
 ],
 "metadata": {
  "kernelspec": {
   "display_name": "base",
   "language": "python",
   "name": "python3"
  },
  "language_info": {
   "codemirror_mode": {
    "name": "ipython",
    "version": 3
   },
   "file_extension": ".py",
   "mimetype": "text/x-python",
   "name": "python",
   "nbconvert_exporter": "python",
   "pygments_lexer": "ipython3",
   "version": "3.11.7"
  }
 },
 "nbformat": 4,
 "nbformat_minor": 2
}
