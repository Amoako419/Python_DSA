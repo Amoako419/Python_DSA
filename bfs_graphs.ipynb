{
 "cells": [
  {
   "cell_type": "code",
   "execution_count": 1,
   "metadata": {},
   "outputs": [
    {
     "name": "stdout",
     "output_type": "stream",
     "text": [
      "\n",
      "The Breadth-First Search (BFS) traversal starting from node Start is:\n",
      "Start Friend1 Friend2 Friend3 Friend5 Friend4 Friend6 "
     ]
    }
   ],
   "source": [
    "# Import the necessary libraries\n",
    "from collections import deque\n",
    "\n",
    "# Function for BFS traversal of the graph\n",
    "def BFS_Traversal(graph, start):\n",
    "    visited = set()  # Set to keep track of visited nodes\n",
    "    queue = deque([start])  # Double-ended queue to handle BFS operations\n",
    "\n",
    "    print(f\"The Breadth-First Search (BFS) traversal starting from node {start} is:\")\n",
    "\n",
    "    while queue:\n",
    "        node = queue.popleft()  # Dequeue a node from the front\n",
    "        print(node, end=\" \")  # Print the visited node\n",
    "\n",
    "        for neighbor in graph[node]:  # Check all neighbors\n",
    "            if neighbor not in visited:  # If the neighbor has not been visited yet\n",
    "                queue.append(neighbor)  # Enqueue the neighbor\n",
    "                visited.add(neighbor)  # Mark the neighbor as visited\n",
    "\n",
    "print()\n",
    "\n",
    "# Use an adjacency list to represent the graph\n",
    "graph = {'Start': ['Friend1', 'Friend2'], 'Friend1': ['Friend3', 'Friend5'],\n",
    "         'Friend2': ['Friend4'], 'Friend3': ['Friend6'], 'Friend4': [], \n",
    "         'Friend5': [], 'Friend6': []}\n",
    "\n",
    "# Call the BFS_Traversal function\n",
    "BFS_Traversal(graph, 'Start')"
   ]
  },
  {
   "cell_type": "code",
   "execution_count": 2,
   "metadata": {},
   "outputs": [
    {
     "name": "stdout",
     "output_type": "stream",
     "text": [
      "\n",
      "The BFS traversal, starting at node Earth, displays nodes in this order: \n",
      "Earth Mars Jupiter Neptune Pluto Venus Saturn Uranus "
     ]
    }
   ],
   "source": [
    "# Import necessary libraries\n",
    "from collections import deque\n",
    "\n",
    "def BFS(graph, start_node):\n",
    "    # Create an empty set for visited nodes and a queue for BFS\n",
    "    queue = deque([start_node])\n",
    "    visited = set()\n",
    "\n",
    "    print(f\"The BFS traversal, starting at node {start_node}, displays nodes in this order: \")\n",
    "\n",
    "    # Loop until the queue is empty\n",
    "    while queue:\n",
    "        node = queue.popleft()  # Remove a node from the front of the queue\n",
    "        print(node, end=\" \")  # Print the visited node\n",
    "\n",
    "        for neighbor in graph[node]:  # Visit all the node's neighbors\n",
    "            if neighbor not in visited:\n",
    "                queue.append(neighbor)  # Enqueue the neighbor\n",
    "                visited.add(neighbor)\n",
    "\n",
    "print()\n",
    "\n",
    "# Graph representation as an adjacency list\n",
    "graph = {\n",
    "    'Earth': ['Mars', 'Jupiter'], \n",
    "    'Mars': ['Neptune', 'Pluto'],\n",
    "    'Jupiter': ['Venus', 'Saturn'], \n",
    "    'Neptune': [],\n",
    "    'Pluto': [],\n",
    "    'Venus': ['Uranus'],\n",
    "    'Saturn': [],\n",
    "    'Uranus': []\n",
    "}\n",
    "\n",
    "# Initiate BFS traversal starting from 'Earth'\n",
    "BFS(graph, 'Earth')\n"
   ]
  },
  {
   "cell_type": "code",
   "execution_count": 3,
   "metadata": {},
   "outputs": [
    {
     "name": "stdout",
     "output_type": "stream",
     "text": [
      "['C', 'H', 'I']\n"
     ]
    }
   ],
   "source": [
    "from collections import deque\n",
    "\n",
    "def BFS(graph, start):\n",
    "    visited = set()\n",
    "    queue = deque([start]) \n",
    "    traversal_history = []\n",
    "\n",
    "    while queue:\n",
    "        vertex = queue.popleft()\n",
    "        traversal_history.append(vertex)\n",
    "\n",
    "        # TODO: process vertex's neighbors\n",
    "        for neighbor in graph[vertex]:  # Check all neighbors\n",
    "            if neighbor not in visited:  # If the neighbor has not been visited yet\n",
    "                queue.append(neighbor)  # Enqueue the neighbor\n",
    "                visited.add(neighbor)  # Mark the neighbor as visited\n",
    "                \n",
    "    return traversal_history\n",
    "\n",
    "graph = {\n",
    "    'A': ['B', 'C', 'D'],\n",
    "    'B': ['F', 'G'],\n",
    "    'C': ['H', 'I'],\n",
    "    'D': ['J'],\n",
    "    'F': [],\n",
    "    'G': ['K', 'L'],\n",
    "    'H': [],\n",
    "    'I': [],\n",
    "    'J': [],\n",
    "    'K': [],\n",
    "    'L': ['M', 'N'],\n",
    "    'M': [],\n",
    "    'N': []\n",
    "}\n",
    "\n",
    "print(BFS(graph, 'C'))"
   ]
  }
 ],
 "metadata": {
  "kernelspec": {
   "display_name": "base",
   "language": "python",
   "name": "python3"
  },
  "language_info": {
   "codemirror_mode": {
    "name": "ipython",
    "version": 3
   },
   "file_extension": ".py",
   "mimetype": "text/x-python",
   "name": "python",
   "nbconvert_exporter": "python",
   "pygments_lexer": "ipython3",
   "version": "3.11.7"
  }
 },
 "nbformat": 4,
 "nbformat_minor": 2
}
