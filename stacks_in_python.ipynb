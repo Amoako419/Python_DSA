{
 "cells": [
  {
   "cell_type": "code",
   "execution_count": 1,
   "metadata": {},
   "outputs": [
    {
     "name": "stdout",
     "output_type": "stream",
     "text": [
      "Hello, CodeSignal!\n",
      "Hello, \n",
      "\n",
      "Hello, \n",
      "Hello, CodeSignal!\n",
      "Redo operation not possible. No redo history available.\n"
     ]
    }
   ],
   "source": [
    "class Editor:\n",
    "    def __init__(self):\n",
    "        self.text = \"\"\n",
    "        self.history_stack = []\n",
    "        self.redo_stack = []\n",
    "\n",
    "    def append_text(self, text):\n",
    "        self.history_stack.append(self.text)\n",
    "        self.text += text\n",
    "\n",
    "    def undo(self):\n",
    "        if self.history_stack:\n",
    "            self.redo_stack.append(self.text)\n",
    "            self.text = self.history_stack.pop()\n",
    "        else:\n",
    "            print(\"Undo operation not possible. No history available.\")\n",
    "\n",
    "    def redo(self):\n",
    "        if self.redo_stack:\n",
    "            self.history_stack.append(self.text)\n",
    "            self.text = self.redo_stack.pop()\n",
    "        else:\n",
    "            print(\"Redo operation not possible. No redo history available.\")\n",
    "\n",
    "    def display_text(self):\n",
    "        print(self.text)\n",
    "\n",
    "\n",
    "editor = Editor()\n",
    "\n",
    "editor.append_text(\"Hello, \")\n",
    "editor.append_text(\"CodeSignal!\")\n",
    "editor.display_text()\n",
    "editor.undo()\n",
    "editor.display_text()\n",
    "editor.undo()\n",
    "editor.display_text()\n",
    "editor.redo()\n",
    "editor.display_text()\n",
    "editor.redo()\n",
    "editor.display_text()\n",
    "editor.redo()\n",
    "editor.undo()"
   ]
  },
  {
   "cell_type": "code",
   "execution_count": 3,
   "metadata": {},
   "outputs": [
    {
     "name": "stdout",
     "output_type": "stream",
     "text": [
      "Pushing Book 1 into the stack\n",
      "Pushing Book 2 into the stack\n",
      "Pushing Book 3 into the stack\n",
      "Stack after pushing elements:\n",
      "[1, 2, 3]\n",
      "Pop element: 3\n",
      "Popped book: Book 3\n",
      "Stack after popping an element:\n",
      "[1, 2]\n"
     ]
    }
   ],
   "source": [
    "class Stack:\n",
    "    def __init__(self):\n",
    "        self.stack = []\n",
    "        self.maxSize = 10  # assuming a stack size limit for this example\n",
    "\n",
    "    def push(self, item):\n",
    "        if len(self.stack) < self.maxSize:\n",
    "            self.stack.append(item)\n",
    "        else:\n",
    "            print(\"Stack Overflow. Cannot add more items.\")\n",
    "\n",
    "    def pop(self):\n",
    "        if len(self.stack) > 0:\n",
    "            print(f\"Pop element: {self.stack[-1]}\") \n",
    "            return self.stack.pop()\n",
    "        else:\n",
    "            print(\"Stack Underflow. Stack is empty.\")\n",
    "            return None  # return a None value when the stack is empty\n",
    "\n",
    "    def printStack(self):\n",
    "        print(self.stack)\n",
    "\n",
    "# create a Stack object\n",
    "s = Stack()\n",
    "\n",
    "# Push elements\n",
    "for i in range(1, 4): # we deliberately try to add elements in the range 1 to 3\n",
    "    print(f\"Pushing Book {i} into the stack\")\n",
    "    s.push(i)\n",
    "\n",
    "# Print the stack\n",
    "print(\"Stack after pushing elements:\")\n",
    "s.printStack()\n",
    "\n",
    "# Pop an element\n",
    "topElement = s.pop()\n",
    "print(f\"Popped book: Book {topElement}\")\n",
    "\n",
    "# Print the stack\n",
    "print(\"Stack after popping an element:\")\n",
    "s.printStack()"
   ]
  },
  {
   "cell_type": "code",
   "execution_count": 4,
   "metadata": {},
   "outputs": [
    {
     "name": "stdout",
     "output_type": "stream",
     "text": [
      "Pushed 1 to the stack\n",
      "Pushed 2 to the stack\n",
      "Pushed 3 to the stack\n",
      "Pushed 4 to the stack\n",
      "Pushed 5 to the stack\n",
      "Pushed 6 to the stack\n",
      "6 is the top element in the stack.\n",
      "\n",
      "Operations after attempting to pop the top element:\n",
      "Popped element: 6\n",
      "\n",
      "Operations when attempting to pop all elements:\n",
      "Popped element: 5\n",
      "Popped element: 4\n",
      "Popped element: 3\n",
      "Popped element: 2\n",
      "Popped element: 1\n",
      "The stack is empty.\n"
     ]
    }
   ],
   "source": [
    "class Stack:\n",
    "    def __init__(self):\n",
    "        self.stack = []\n",
    "        self.maxSize = 10\n",
    "\n",
    "    def push(self, item):\n",
    "        if len(self.stack) < self.maxSize:\n",
    "            self.stack.append(item)\n",
    "            print(f\"Pushed {item} to the stack\")\n",
    "        else:\n",
    "            raise Exception(\"Stack Overflow. Cannot push more items to the stack.\")\n",
    "\n",
    "    def pop(self):\n",
    "        if len(self.stack) > 0:\n",
    "            popped_element = self.stack.pop()\n",
    "            print(f\"Popped element: {popped_element}\")\n",
    "            return popped_element\n",
    "        else:\n",
    "            raise Exception(\"Stack Underflow. The stack is empty.\")\n",
    "\n",
    "    # TODO: Implement a method to peek the top element of the stack\n",
    "    # remember, you just have to look at the top element, not remove it\n",
    "    def peek(self):\n",
    "        if len(self.stack) > 0:\n",
    "            return self.stack[-1]\n",
    "        else:\n",
    "            return none\n",
    "\n",
    "    def is_empty(self):\n",
    "        return len(self.stack) == 0\n",
    "\n",
    "    def get_size(self):\n",
    "        return len(self.stack)\n",
    "\n",
    "\n",
    "my_stack = Stack()\n",
    "for i in range(1, 7):\n",
    "    my_stack.push(i)\n",
    "\n",
    "# TODO: Call the peek function to view the top element of the stack\n",
    "top_element = my_stack.peek()\n",
    "print(f\"{top_element} is the top element in the stack.\")\n",
    "\n",
    "\n",
    "print(\"\\nOperations after attempting to pop the top element:\")\n",
    "my_stack.pop()\n",
    "# TODO: Again, call the peek function to view the new top element of the stack\n",
    "stack_size = my_stack.get_size()\n",
    "print(\"\\nOperations when attempting to pop all elements:\")\n",
    "for _ in range(stack_size):\n",
    "    my_stack.pop()\n",
    "# TODO: Try to peek into an empty stack\n",
    "if my_stack.is_empty():\n",
    "    print(\"The stack is empty.\")\n",
    "else:\n",
    "    print(\"The stack is not empty.\")"
   ]
  },
  {
   "cell_type": "code",
   "execution_count": 5,
   "metadata": {},
   "outputs": [
    {
     "name": "stdout",
     "output_type": "stream",
     "text": [
      "True\n",
      "True\n",
      "False\n",
      "True\n"
     ]
    }
   ],
   "source": [
    "def are_brackets_balanced(input_str):\n",
    "    brackets = set([\"(\", \")\", \"[\", \"]\", \"{\", \"}\"])\n",
    "    bracket_map = {\"(\": \")\", \"[\": \"]\",  \"{\": \"}\"}\n",
    "    open_par = set([\"(\", \"[\", \"{\"])\n",
    "    stack = []\n",
    "\n",
    "    for character in input_str:\n",
    "        if character not in brackets:\n",
    "            # Skipping non-bracket characters\n",
    "            continue\n",
    "        if character in open_par:\n",
    "            stack.append(character)\n",
    "        elif stack and character == bracket_map[stack[-1]]:\n",
    "                stack.pop()\n",
    "        else:\n",
    "            return False\n",
    "    return len(stack) == 0\n",
    "\n",
    "print(are_brackets_balanced(\"(abc[d]{fg})\"))  # Expected output: True\n",
    "print(are_brackets_balanced(\"(a[bcd{fg}h]i)\"))  # Expected output: True\n",
    "print(are_brackets_balanced(\"(abc{d[fg]h)i\"))  # Expected output: False\n",
    "print(are_brackets_balanced(\"({a[bcd]})\"))  # Expected output: True\n"
   ]
  },
  {
   "cell_type": "code",
   "execution_count": 6,
   "metadata": {},
   "outputs": [
    {
     "name": "stdout",
     "output_type": "stream",
     "text": [
      "important message\n",
      "data\n",
      "AI\n"
     ]
    }
   ],
   "source": [
    "def string_end(strng, n):\n",
    "    stack = list(strng)\n",
    "    result = ''\n",
    "    \n",
    "    while n > 0:\n",
    "        n -=1\n",
    "        result += stack.pop()\n",
    "    return result\n",
    "    \n",
    "\n",
    "print(string_end(\"ijkshgegassem tnatropmi\", 17))  # Expected output: important message\n",
    "print(string_end(\"ffsfatad\", 4))  # Expected output: data\n",
    "print(string_end(\"IA\", 2))  # Expected output: AI\n",
    "\n"
   ]
  },
  {
   "cell_type": "code",
   "execution_count": 7,
   "metadata": {},
   "outputs": [
    {
     "name": "stdout",
     "output_type": "stream",
     "text": [
      "1\n",
      "5\n",
      "18\n"
     ]
    }
   ],
   "source": [
    "def evaluate_postfix_inverse(expression):\n",
    "    stack = []\n",
    "    for element in expression.split(' '):  \n",
    "        if element.isdigit():  \n",
    "            stack.append(int(element))  # Push numbers as integers\n",
    "        else:\n",
    "            operand2 = stack.pop()\n",
    "            operand1 = stack.pop()\n",
    "            # Perform the calculation\n",
    "            if element == '+':\n",
    "                result = operand1 + operand2\n",
    "            elif element == '-':\n",
    "                result = operand1 - operand2\n",
    "            elif element == '*':\n",
    "                result = operand1 * operand2\n",
    "            elif element == '/':\n",
    "                result = operand1 / operand2\n",
    "            \n",
    "            # Print the operation\n",
    "            # print(f\"Computed: {operand1} {element} {operand2} = {result}\")\n",
    "            \n",
    "            # Push the result back to the stack\n",
    "            stack.append(abs(result))\n",
    "\n",
    "    return stack[0]\n",
    "\n",
    "\n",
    "\n",
    "print(evaluate_postfix_inverse(\"2 3 -\"))  # Expected output: 1\n",
    "print(evaluate_postfix_inverse(\"2 3 +\"))  # Expected output: 5\n",
    "print(evaluate_postfix_inverse(\"6 3 *\"))  # Expected output: 18\n",
    "\n"
   ]
  }
 ],
 "metadata": {
  "kernelspec": {
   "display_name": "base",
   "language": "python",
   "name": "python3"
  },
  "language_info": {
   "codemirror_mode": {
    "name": "ipython",
    "version": 3
   },
   "file_extension": ".py",
   "mimetype": "text/x-python",
   "name": "python",
   "nbconvert_exporter": "python",
   "pygments_lexer": "ipython3",
   "version": "3.11.7"
  }
 },
 "nbformat": 4,
 "nbformat_minor": 2
}
