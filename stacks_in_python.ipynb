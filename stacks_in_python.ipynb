{
 "cells": [
  {
   "cell_type": "code",
   "execution_count": 1,
   "metadata": {},
   "outputs": [
    {
     "name": "stdout",
     "output_type": "stream",
     "text": [
      "Hello, CodeSignal!\n",
      "Hello, \n",
      "\n",
      "Hello, \n",
      "Hello, CodeSignal!\n",
      "Redo operation not possible. No redo history available.\n"
     ]
    }
   ],
   "source": [
    "class Editor:\n",
    "    def __init__(self):\n",
    "        self.text = \"\"\n",
    "        self.history_stack = []\n",
    "        self.redo_stack = []\n",
    "\n",
    "    def append_text(self, text):\n",
    "        self.history_stack.append(self.text)\n",
    "        self.text += text\n",
    "\n",
    "    def undo(self):\n",
    "        if self.history_stack:\n",
    "            self.redo_stack.append(self.text)\n",
    "            self.text = self.history_stack.pop()\n",
    "        else:\n",
    "            print(\"Undo operation not possible. No history available.\")\n",
    "\n",
    "    def redo(self):\n",
    "        if self.redo_stack:\n",
    "            self.history_stack.append(self.text)\n",
    "            self.text = self.redo_stack.pop()\n",
    "        else:\n",
    "            print(\"Redo operation not possible. No redo history available.\")\n",
    "\n",
    "    def display_text(self):\n",
    "        print(self.text)\n",
    "\n",
    "\n",
    "editor = Editor()\n",
    "\n",
    "editor.append_text(\"Hello, \")\n",
    "editor.append_text(\"CodeSignal!\")\n",
    "editor.display_text()\n",
    "editor.undo()\n",
    "editor.display_text()\n",
    "editor.undo()\n",
    "editor.display_text()\n",
    "editor.redo()\n",
    "editor.display_text()\n",
    "editor.redo()\n",
    "editor.display_text()\n",
    "editor.redo()\n",
    "editor.undo()"
   ]
  },
  {
   "cell_type": "code",
   "execution_count": null,
   "metadata": {},
   "outputs": [],
   "source": [
    "class Stack:\n",
    "    def __init__(self):\n",
    "        self.stack = []\n",
    "        self.maxSize = 10  # assuming a stack size limit for this example\n",
    "\n",
    "    def push(self, item):\n",
    "        if len(self.stack) < self.maxSize:\n",
    "            self.stack.append(item)\n",
    "        else:\n",
    "            print(\"Stack Overflow. Cannot add more items.\")\n",
    "\n",
    "    def pop(self):\n",
    "        if len(self.stack) > 0:\n",
    "            print(f\"Pop element: {self.stack[-1]}\") \n",
    "            return self.stack.pop()\n",
    "        else:\n",
    "            print(\"Stack Underflow. Stack is empty.\")\n",
    "            return None  # return a None value when the stack is empty\n",
    "\n",
    "    def printStack(self):\n",
    "        print(self.stack)\n",
    "\n",
    "# create a Stack object\n",
    "s = Stack()\n",
    "\n",
    "# Push elements\n",
    "for i in range(1, 4): # we deliberately try to add elements in the range 1 to 3\n",
    "    print(f\"Pushing Book {i} into the stack\")\n",
    "    s.push(i)\n",
    "\n",
    "# Print the stack\n",
    "print(\"Stack after pushing elements:\")\n",
    "s.printStack()\n",
    "\n",
    "# Pop an element\n",
    "topElement = s.pop()\n",
    "print(f\"Popped book: Book {topElement}\")\n",
    "\n",
    "# Print the stack\n",
    "print(\"Stack after popping an element:\")\n",
    "s.printStack()"
   ]
  }
 ],
 "metadata": {
  "kernelspec": {
   "display_name": "base",
   "language": "python",
   "name": "python3"
  },
  "language_info": {
   "codemirror_mode": {
    "name": "ipython",
    "version": 3
   },
   "file_extension": ".py",
   "mimetype": "text/x-python",
   "name": "python",
   "nbconvert_exporter": "python",
   "pygments_lexer": "ipython3",
   "version": "3.11.7"
  }
 },
 "nbformat": 4,
 "nbformat_minor": 2
}
