{
 "cells": [
  {
   "cell_type": "code",
   "execution_count": 1,
   "metadata": {},
   "outputs": [
    {
     "name": "stdout",
     "output_type": "stream",
     "text": [
      "Heap after insertions:  [1, 1, 2, 3, 3, 9, 4, 6, 5, 5, 5]\n",
      "Heap after deleting the minimum node:  [1, 3, 2, 3, 5, 9, 4, 6, 5, 5]\n"
     ]
    }
   ],
   "source": [
    "# Import necessary libraries\n",
    "import heapq\n",
    "\n",
    "# Create an empty MinHeap\n",
    "minHeap = []\n",
    "\n",
    "# Function to insert nodes maintaining the heap property\n",
    "def insertNode(node_list):\n",
    "    for node in node_list:\n",
    "        heapq.heappush(minHeap, node)\n",
    "\n",
    "# Function to delete node from heap\n",
    "def deleteNode():\n",
    "    try:\n",
    "        return heapq.heappop(minHeap)\n",
    "    except:\n",
    "        return None\n",
    "\n",
    "# insert nodes into the MinHeap\n",
    "insertNode([3, 1, 4, 1, 5, 9, 2, 6, 5, 3, 5])\n",
    "\n",
    "# print MinHeap after insertions\n",
    "print(\"Heap after insertions: \", minHeap)\n",
    "\n",
    "# Delete a node from MinHeap\n",
    "deleteNode()\n",
    "\n",
    "# print MinHeap after deletion\n",
    "print(\"Heap after deleting the minimum node: \", minHeap)"
   ]
  }
 ],
 "metadata": {
  "kernelspec": {
   "display_name": "base",
   "language": "python",
   "name": "python3"
  },
  "language_info": {
   "codemirror_mode": {
    "name": "ipython",
    "version": 3
   },
   "file_extension": ".py",
   "mimetype": "text/x-python",
   "name": "python",
   "nbconvert_exporter": "python",
   "pygments_lexer": "ipython3",
   "version": "3.11.7"
  }
 },
 "nbformat": 4,
 "nbformat_minor": 2
}
