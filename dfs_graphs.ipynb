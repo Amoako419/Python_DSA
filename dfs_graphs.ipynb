{
 "cells": [
  {
   "cell_type": "code",
   "execution_count": 1,
   "metadata": {},
   "outputs": [
    {
     "name": "stdout",
     "output_type": "stream",
     "text": [
      "Washington California Oregon Nevada \n",
      "Visited states: {'California', 'Nevada', 'Washington', 'Oregon'}\n"
     ]
    }
   ],
   "source": [
    "graph = {\n",
    "    'Washington': set(['California', 'Nevada']),\n",
    "    'California': set(['Washington', 'Oregon']),\n",
    "    'Nevada': set(['Washington', 'Oregon']),\n",
    "    'Oregon': set(['California', 'Nevada'])\n",
    "}\n",
    "\n",
    "def DFS(graph, start, visited):\n",
    "    if start in visited:  # if the node has already been visited, just return the visited set\n",
    "        return\n",
    "   \n",
    "    visited.add(start)\n",
    "    print(start, end=\" \")\n",
    "\n",
    "    for state in graph[start]:\n",
    "        if state not in visited:\n",
    "            DFS(graph, state, visited)\n",
    "\n",
    "# Call the DFS function starting with 'Washington'\n",
    "visited = set()\n",
    "DFS(graph, 'Washington', visited)  # Output: Washington Nevada Oregon California\n",
    "print('\\nVisited states:', visited)  # Print all visited states"
   ]
  },
  {
   "cell_type": "code",
   "execution_count": 2,
   "metadata": {},
   "outputs": [
    {
     "name": "stdout",
     "output_type": "stream",
     "text": [
      "Bob --> Alice --> David --> Carol --> Eve --> \n",
      "Visited nodes: {'David', 'Eve', 'Bob', 'Carol', 'Alice'}\n"
     ]
    }
   ],
   "source": [
    "# Define a graph using dictionary\n",
    "graph = {\n",
    "    'Alice': set(['Carol', 'David']),\n",
    "    'Bob': set(['Alice', 'Eve']),\n",
    "    'Carol': set(['Alice', 'Eve']),\n",
    "    'David': set(['Alice']),\n",
    "    'Eve': set(['Bob','Carol']),\n",
    "}\n",
    "\n",
    "def DFS(graph, start_node, visited):\n",
    "    \"\"\"\n",
    "    Function to implement DFS for the graph.\n",
    "    \"\"\"\n",
    "    if start_node in visited:\n",
    "        return\n",
    "\n",
    "    visited.add(start_node)\n",
    "    print(start_node, end=' --> ')\n",
    "\n",
    "    for neighbour in graph[start_node]:\n",
    "        if neighbour not in visited:\n",
    "            DFS(graph, neighbour, visited)\n",
    "\n",
    "visited = set()\n",
    "# Call our DFS function, starting with 'Alice'\n",
    "DFS(graph, 'Bob', visited)  # Depicts the DFS traversal. It could vary basis the order in which neighbors are processed.\n",
    "print('\\nVisited nodes:', visited)\n"
   ]
  },
  {
   "cell_type": "code",
   "execution_count": 3,
   "metadata": {},
   "outputs": [
    {
     "name": "stdout",
     "output_type": "stream",
     "text": [
      "Company_A --> Company_D --> Company_C --> Company_B --> \n",
      "Visited companies: {'Company_C', 'Company_D', 'Company_B', 'Company_A'}\n"
     ]
    }
   ],
   "source": [
    "# Define the graph using a dictionary\n",
    "offer_network = {\n",
    "    'Company_A': set(['Company_B', 'Company_D']),\n",
    "    'Company_B': set(['Company_A', 'Company_C']),\n",
    "    'Company_C': set(['Company_B', 'Company_D']),\n",
    "    'Company_D': set(['Company_A', 'Company_C'])\n",
    "}\n",
    "\n",
    "def DFS(offer_network, start_company, visited_offers):\n",
    "    \"\"\"\n",
    "    Function implementing the DFS algorithm to traverse the graph.\n",
    "    \"\"\"\n",
    "    if start_company in visited_offers:\n",
    "        return\n",
    "    visited_offers.add(start_company)\n",
    "    print(start_company, end=' --> ')\n",
    "    \n",
    "    for partner in offer_network[start_company]:\n",
    "        DFS(offer_network, partner, visited_offers)\n",
    "\n",
    "visited_companies = set()\n",
    "# Invoke DFS function, starting with 'Company_A'\n",
    "DFS(offer_network, 'Company_A', visited_companies) \n",
    "print('\\nVisited companies:', visited_companies) "
   ]
  }
 ],
 "metadata": {
  "kernelspec": {
   "display_name": "base",
   "language": "python",
   "name": "python3"
  },
  "language_info": {
   "codemirror_mode": {
    "name": "ipython",
    "version": 3
   },
   "file_extension": ".py",
   "mimetype": "text/x-python",
   "name": "python",
   "nbconvert_exporter": "python",
   "pygments_lexer": "ipython3",
   "version": "3.11.7"
  }
 },
 "nbformat": 4,
 "nbformat_minor": 2
}
