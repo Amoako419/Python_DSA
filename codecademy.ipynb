{
 "cells": [
  {
   "cell_type": "code",
   "execution_count": 1,
   "metadata": {},
   "outputs": [
    {
     "name": "stdout",
     "output_type": "stream",
     "text": [
      "Starting up a poem context manager\n",
      "Opening poem file\n",
      "Closing poem file\n"
     ]
    }
   ],
   "source": [
    "class PoemFiles:\n",
    "  def __init__(self,poem_file,mode):\n",
    "    print('Starting up a poem context manager')\n",
    "    self.file = poem_file\n",
    "    self.mode = mode\n",
    "\n",
    "  def __enter__(self):\n",
    "    print('Opening poem file')\n",
    "    self.opened_poem_file = open(self.file,self.mode)\n",
    "    return self.opened_poem_file\n",
    "\n",
    "  def __exit__(self,*exc):\n",
    "    print('Closing poem file')\n",
    "    self.opened_poem_file.close()\n",
    "\n",
    "\n",
    "with PoemFiles('poem.txt', 'w') as open_poem_file:\n",
    "   open_poem_file.write('Hope is the thing with feathers')"
   ]
  }
 ],
 "metadata": {
  "kernelspec": {
   "display_name": "base",
   "language": "python",
   "name": "python3"
  },
  "language_info": {
   "codemirror_mode": {
    "name": "ipython",
    "version": 3
   },
   "file_extension": ".py",
   "mimetype": "text/x-python",
   "name": "python",
   "nbconvert_exporter": "python",
   "pygments_lexer": "ipython3",
   "version": "3.11.7"
  }
 },
 "nbformat": 4,
 "nbformat_minor": 2
}
