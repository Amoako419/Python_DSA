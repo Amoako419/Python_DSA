{
 "cells": [
  {
   "cell_type": "code",
   "execution_count": 1,
   "metadata": {},
   "outputs": [
    {
     "name": "stdout",
     "output_type": "stream",
     "text": [
      "Starting up a poem context manager\n",
      "Opening poem file\n",
      "Closing poem file\n"
     ]
    }
   ],
   "source": [
    "class PoemFiles:\n",
    "  def __init__(self,poem_file,mode):\n",
    "    print('Starting up a poem context manager')\n",
    "    self.file = poem_file\n",
    "    self.mode = mode\n",
    "\n",
    "  def __enter__(self):\n",
    "    print('Opening poem file')\n",
    "    self.opened_poem_file = open(self.file,self.mode)\n",
    "    return self.opened_poem_file\n",
    "\n",
    "  def __exit__(self,*exc):\n",
    "    print('Closing poem file')\n",
    "    self.opened_poem_file.close()\n",
    "\n",
    "\n",
    "with PoemFiles('poem.txt', 'w') as open_poem_file:\n",
    "   open_poem_file.write('Hope is the thing with feathers')"
   ]
  },
  {
   "cell_type": "code",
   "execution_count": 2,
   "metadata": {},
   "outputs": [
    {
     "name": "stdout",
     "output_type": "stream",
     "text": [
      " \n",
      " -- Starting up a poem context manager -- \n",
      "\n",
      " \n",
      " --  Opening poem file -- \n",
      "\n",
      "---- Exception data below ---- \n",
      " \n",
      "<class 'AttributeError'> '_io.TextIOWrapper' object has no attribute 'uppercasewords' <traceback object at 0x10440ffc0> \n",
      "\n",
      " \n",
      " -- Starting up a poem context manager -- \n",
      "\n",
      " \n",
      " --  Opening poem file -- \n",
      "\n",
      "Hope is the thing with feathers\n",
      " \n",
      " ---- Exception data below ---- \n",
      " \n",
      "None None None \n",
      "\n"
     ]
    }
   ],
   "source": [
    "class PoemFiles:\n",
    "\n",
    "  def __init__(self, poem_file, mode):\n",
    "    print(' \\n -- Starting up a poem context manager -- \\n')\n",
    "    self.file = poem_file\n",
    "    self.mode = mode\n",
    "\n",
    "  def __enter__(self):\n",
    "    print(' \\n --  Opening poem file -- \\n')\n",
    "    self.opened_poem_file = open(self.file, self.mode)\n",
    "    return self.opened_poem_file\n",
    "\n",
    "  def __exit__(self, exc_type, exc_value, traceback):\n",
    "    print(exc_type, exc_value, traceback, '\\n')\n",
    "    # Write your code below: \n",
    "    self.opened_poem_file.close()\n",
    "    if isinstance(exc_value, AttributeError):\n",
    "      return True\n",
    "    \n",
    "\n",
    "with PoemFiles('poem.txt', 'r') as file:\n",
    "  print(\"---- Exception data below ---- \\n \")\n",
    "  print(file.uppercasewords())\n",
    "\n",
    "with PoemFiles('poem.txt', 'r') as file2:\n",
    "  print(file2.read())\n",
    "  print(\" \\n ---- Exception data below ---- \\n \")\n",
    "\n"
   ]
  },
  {
   "cell_type": "code",
   "execution_count": 3,
   "metadata": {},
   "outputs": [
    {
     "name": "stdout",
     "output_type": "stream",
     "text": [
      "Opening File\n",
      "Inside yield\n",
      "Closing File\n"
     ]
    }
   ],
   "source": [
    "# Write your code below:\n",
    "from contextlib import contextmanager\n",
    "\n",
    "@contextmanager\n",
    "def poem_files(file,mode):\n",
    "  print('Opening File')\n",
    "  open_poem_file = open(file, mode)\n",
    "  try:\n",
    "    yield open_poem_file\n",
    "  # Checkpoint 4\n",
    "  finally:\n",
    "    print('Closing File')\n",
    "    open_poem_file.close()\n",
    "\n",
    "\n",
    "\n",
    "with poem_files('poem.txt', 'a') as opened_file:\n",
    " print('Inside yield')\n",
    " opened_file.write('Rose is beautiful, Just like you.')\n",
    "\n"
   ]
  },
  {
   "cell_type": "code",
   "execution_count": 4,
   "metadata": {},
   "outputs": [
    {
     "name": "stdout",
     "output_type": "stream",
     "text": [
      "Opening File\n",
      "Inside yield\n",
      "'_io.TextIOWrapper' object has no attribute 'sign'\n",
      "Closing File\n"
     ]
    }
   ],
   "source": [
    "from contextlib import contextmanager\n",
    " \n",
    "@contextmanager\n",
    "def poem_files(file, mode):\n",
    "  print('Opening File')\n",
    "  open_poem_file = open(file, mode)\n",
    "  try:\n",
    "    yield open_poem_file\n",
    "  #Write your code below: \n",
    "  except AttributeError as e:\n",
    "    print(e)\n",
    "\n",
    "  finally:\n",
    "    print('Closing File')\n",
    "    open_poem_file.close()\n",
    "\n",
    "with poem_files('poem.txt', 'a') as opened_file:\n",
    " print('Inside yield')\n",
    " opened_file.sign('Buzz is big city. big city is buzz.')\n",
    "\n",
    "\n"
   ]
  },
  {
   "cell_type": "code",
   "execution_count": 5,
   "metadata": {},
   "outputs": [
    {
     "name": "stdout",
     "output_type": "stream",
     "text": [
      "Opening File\n",
      "Opening File\n",
      "<_io.TextIOWrapper name='poem.txt' mode='r' encoding='UTF-8'> <_io.TextIOWrapper name='card.txt' mode='w' encoding='UTF-8'>\n",
      "Closing File\n",
      "Closing File\n"
     ]
    }
   ],
   "source": [
    "from contextlib import contextmanager\n",
    " \n",
    "@contextmanager\n",
    "def poem_files(file, mode):\n",
    "  print('Opening File')\n",
    "  open_poem_file = open(file, mode)\n",
    "  try:\n",
    "    yield open_poem_file\n",
    "  finally:\n",
    "    print('Closing File')\n",
    "    open_poem_file.close()\n",
    "\n",
    "\n",
    "@contextmanager\n",
    "def card_files(file, mode):\n",
    "  print('Opening File')\n",
    "  open_card_file = open(file, mode)\n",
    "  try:\n",
    "    yield open_card_file\n",
    "  finally:\n",
    "    print('Closing File')\n",
    "    open_card_file.close()\n",
    "\n",
    "# Write your code below: \n",
    "with poem_files('poem.txt', 'r') as poem:\n",
    "   with card_files('card.txt', 'w') as card:\n",
    "     print(poem, card)\n",
    "     # Checkpoint 2\n",
    "     card.write(poem.read())"
   ]
  }
 ],
 "metadata": {
  "kernelspec": {
   "display_name": "base",
   "language": "python",
   "name": "python3"
  },
  "language_info": {
   "codemirror_mode": {
    "name": "ipython",
    "version": 3
   },
   "file_extension": ".py",
   "mimetype": "text/x-python",
   "name": "python",
   "nbconvert_exporter": "python",
   "pygments_lexer": "ipython3",
   "version": "3.11.7"
  }
 },
 "nbformat": 4,
 "nbformat_minor": 2
}
