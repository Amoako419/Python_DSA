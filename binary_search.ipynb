{
 "cells": [
  {
   "cell_type": "code",
   "execution_count": 1,
   "metadata": {},
   "outputs": [
    {
     "name": "stdout",
     "output_type": "stream",
     "text": [
      "Product of price $30 is found at position 5 in the price list.\n",
      "No product is found with price $31.\n"
     ]
    }
   ],
   "source": [
    "# Implementation of Binary Search on a specific use case\n",
    "\n",
    "# List of sorted products' prices in an e-commerce company\n",
    "products_price = [5, 10, 15, 20, 25, 30, 35, 40, 45, 50, 55, 60, 65, 70, 75, 80, 85, 90, 95]\n",
    "\n",
    "def binary_search_iterative(data, target):\n",
    "    low = 0\n",
    "    high = len(data)\n",
    "    while high - low > 1:\n",
    "        mid = (low + high) // 2\n",
    "        if target < data[mid]:\n",
    "            high = mid \n",
    "        elif target > data[mid]:\n",
    "            low = mid \n",
    "        else:  # if target is equal to data[mid]\n",
    "            return mid\n",
    "    return low if data[low] == target else None\n",
    "\n",
    "def search_price(customer_query):\n",
    "    result = binary_search_iterative(products_price, customer_query)\n",
    "    if result is not None:\n",
    "        print(f\"Product of price ${customer_query} is found at position {result} in the price list.\")\n",
    "    else:\n",
    "        print(f\"No product is found with price ${customer_query}.\")\n",
    "\n",
    "# Searching for a price that exists\n",
    "search_price(30)\n",
    "\n",
    "# Searching for a price that doesn't exist\n",
    "search_price(31)"
   ]
  },
  {
   "cell_type": "code",
   "execution_count": 2,
   "metadata": {},
   "outputs": [
    {
     "name": "stdout",
     "output_type": "stream",
     "text": [
      "No profile is found with age 30.\n"
     ]
    }
   ],
   "source": [
    "# Implementation of Binary Search on a specific use case\n",
    "\n",
    "# List of sorted ages in a social media platform\n",
    "ages = [18, 19, 20, 21, 22, 23, 24, 25, 26, 27, 28, 29, 31, 32, 33, 34, 35, 36, 37, 38, 39, 40, 41, 42, 43, 44, 45, 46, 47, 48, 49, 50]\n",
    "\n",
    "def binary_search_iterative(data, target):\n",
    "    low = 0\n",
    "    high = len(data)\n",
    "    while (high - low) > 1:\n",
    "        mid = (low + high) // 2\n",
    "        if target < data[mid]:\n",
    "            high = mid \n",
    "        elif target > data[mid]:\n",
    "            low = mid \n",
    "        else:  # if target is equal to data[mid]\n",
    "            return mid\n",
    "    return low if data[low] == target else None\n",
    "\n",
    "# Let's say we want to find out what position a 30-year-old holds in our sorted list of ages\n",
    "age_query = 30\n",
    "result = binary_search_iterative(ages, age_query)\n",
    "\n",
    "if result is not None:\n",
    "    print(f\"Age of {age_query} is found at position {result} in the age list.\")\n",
    "else:\n",
    "    print(f\"No profile is found with age {age_query}.\")"
   ]
  },
  {
   "cell_type": "code",
   "execution_count": 3,
   "metadata": {},
   "outputs": [
    {
     "name": "stdout",
     "output_type": "stream",
     "text": [
      "Words of length 237 are found at position 236 in the word lengths list.\n"
     ]
    }
   ],
   "source": [
    "# Implementation of Binary Search on a specific use case\n",
    "\n",
    "# List of sorted word lengths in a dictionary\n",
    "word_lengths = [i for i in range(1, 501)]  # Lengths from 1 to 500\n",
    "\n",
    "# TODO: Implement the recursion-based binary_search_recursive method\n",
    "def binary_search_recursive(data, target, low, high):\n",
    "    if high - low <= 1:\n",
    "        return low if data[low] == target else None\n",
    "    mid = (low + high)//2\n",
    "    if target < data[mid]:\n",
    "        return binary_search_recursive(data,target,low,mid)\n",
    "    else:\n",
    "        return binary_search_recursive(data,target,mid,high)\n",
    "    pass\n",
    "\n",
    "# Suppose there is a spelling bee, and a contestant is given a word.\n",
    "# The contestant knows the word is in the dictionary, so let's find what position the length of this word would hold in our sorted list of word lengths\n",
    "word_length_query = 237\n",
    "result = binary_search_recursive(word_lengths, word_length_query, 0, len(word_lengths))\n",
    "if result is not None:\n",
    "    print(f\"Words of length {word_length_query} are found at position {result} in the word lengths list.\")\n",
    "else:\n",
    "    print(f\"No words are found with length {word_length_query}.\")"
   ]
  },
  {
   "cell_type": "code",
   "execution_count": 1,
   "metadata": {},
   "outputs": [
    {
     "name": "stdout",
     "output_type": "stream",
     "text": [
      "Time when the ball hits the ground (seconds):  4.51523631811142\n"
     ]
    }
   ],
   "source": [
    "# Python program to calculate the point at which a ball dropped from a height h reaches the ground \n",
    "# using Binary Search on the continuous function h(t) = h - (1/2) * g * t^2.\n",
    "\n",
    "import math\n",
    "\n",
    "# Define the continuous function for the height of the ball at time t \n",
    "def h(t, initial_height, g):\n",
    "    return initial_height - (0.5) * g * t**2\n",
    "\n",
    "# Define the binary search function\n",
    "def binary_search(func, initial_height, g, target, left, right, precision):\n",
    "    while right - left > precision:\n",
    "        mid = (left + right) / 2\n",
    "        if func(mid, initial_height, g) < target:\n",
    "            right = mid\n",
    "        else:\n",
    "            left = mid\n",
    "    return (left + right) / 2\n",
    "\n",
    "# Requested precision\n",
    "epsilon = 1e-6\n",
    "# Constants\n",
    "initial_height = 100  # Initial height in meters\n",
    "g = 9.81  # acceleration due to gravity\n",
    "\n",
    "# Time range \n",
    "time_range = [0, 10]\n",
    "\n",
    "# Call binary_search for h with the target being 0, indicating the hit of the ground\n",
    "result = binary_search(h, initial_height, g, 0, time_range[0], time_range[1], epsilon)\n",
    "\n",
    "print(\"Time when the ball hits the ground (seconds): \", result)"
   ]
  },
  {
   "cell_type": "code",
   "execution_count": 3,
   "metadata": {},
   "outputs": [
    {
     "name": "stdout",
     "output_type": "stream",
     "text": [
      "The value of x for which f(x) is approximately 50 within the interval [-5, 5] is:  2.8743846900761127\n"
     ]
    }
   ],
   "source": [
    "# Python program to find the root of a given function using Binary Search\n",
    "import math\n",
    "import numpy as np\n",
    "\n",
    "# Define a continuous function 'f' where f(x) = x^4 - x^2 - 10\n",
    "def f(x):\n",
    "    return x**4 - x**2 - 10\n",
    "\n",
    "# Define the binary search function \n",
    "def binary_search(func, target, left, right, precision):\n",
    "    middle = (left + right) / 2\n",
    "    while np.abs(func(middle) - target) > precision:\n",
    "        middle = (left + right) / 2\n",
    "        if func(middle) < target:\n",
    "            \n",
    "            left = middle\n",
    "        else:\n",
    "            right = middle\n",
    "            \n",
    "    return middle\n",
    "\n",
    "epsilon = 1e-6  # to make sure the solution is within an acceptable range\n",
    "target = 50  # target value for root of function 'f'\n",
    "start = -5  # starting point of the interval\n",
    "end = 5  # ending point of the interval\n",
    "\n",
    "result = binary_search(f, target, start, end, epsilon)\n",
    "print(\"The value of x for which f(x) is approximately 50 within the interval [\" + str(start) + \", \" + str(end) + \"] is: \", result)\n"
   ]
  },
  {
   "cell_type": "code",
   "execution_count": null,
   "metadata": {},
   "outputs": [],
   "source": []
  },
  {
   "cell_type": "code",
   "execution_count": null,
   "metadata": {},
   "outputs": [],
   "source": [
    "# Python program to find the temperature at which a specific coffee type is approximated to be best\n",
    "import math\n",
    "\n",
    "# Define the continuous function for the specific coffee type  \n",
    "def coffee_function(T):\n",
    "    return -((T - 85)**2) + 60\n",
    "\n",
    "# Define the binary search function \n",
    "def binary_search(func, target, left, right, precision):\n",
    "    while (right - left) > precision:\n",
    "        mid = (left + right) / 2\n",
    "        # TODO: Update `left` and `right` bounds based on the `func(mid)` value\n",
    "        if func(mid) > target:\n",
    "            left = mid\n",
    "        else:\n",
    "            right = mid\n",
    "    return (left + right) / 2 \n",
    "\n",
    "# Requested precision\n",
    "epsilon = 1e-6\n",
    "# Identify the temperature range in which the coffee tastes the best \n",
    "temperature_range = [30, 100]\n",
    "target = 30\n",
    "\n",
    "# TODO: Find the exact temperature at which your coffee tastes best.\n",
    "result = binary_search(coffee_function,target,temperature_range[0],temperature_range[1],epsilon)\n",
    "print(\"The optimal temperature for a coffee to taste superior is: \", result)"
   ]
  },
  {
   "cell_type": "code",
   "execution_count": null,
   "metadata": {},
   "outputs": [],
   "source": [
    "# Python program to find the value of 'x' when f(x) = 0 using Binary Search on Continuous Space\n",
    "import math\n",
    "\n",
    "# Define a continuous function 'f'\n",
    "def f(x):\n",
    "    return x**3 - 5 * x**2 + 5\n",
    "\n",
    "# TODO: Write the Binary Search Function that performs the search on the continuous function in the interval [2, 5]\n",
    "def binary_search(func, target, left, right, precision):\n",
    "    while (right - left) > precision:\n",
    "        mid = (left + right) / 2\n",
    "        # TODO: Update `left` and `right` bounds based on the `func(mid)` value\n",
    "        if func(mid) > target:\n",
    "            left = mid\n",
    "        else:\n",
    "            right = mid\n",
    "    return (left + right) / 2 \n",
    "# TODO: Define precision, target value, and interval bounds\n",
    "epsilon = 1e-6\n",
    "interval = [2,5]\n",
    "target = 0\n",
    "# TODO: Implement the binary search function and print out the value of 'x' for which f(x) is approximately 0.\n",
    "result = binary_search(f,target,interval[0],interval[1],epsilon)\n",
    "print(\"The value of x for which f(x) is approximately 0 within the interval [\" + str(interval[0]) + \", \" + str(interval[1]) + \"] is: \", result)"
   ]
  }
 ],
 "metadata": {
  "kernelspec": {
   "display_name": "base",
   "language": "python",
   "name": "python3"
  },
  "language_info": {
   "codemirror_mode": {
    "name": "ipython",
    "version": 3
   },
   "file_extension": ".py",
   "mimetype": "text/x-python",
   "name": "python",
   "nbconvert_exporter": "python",
   "pygments_lexer": "ipython3",
   "version": "3.11.7"
  }
 },
 "nbformat": 4,
 "nbformat_minor": 2
}
