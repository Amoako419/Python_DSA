{
 "cells": [
  {
   "cell_type": "code",
   "execution_count": 1,
   "metadata": {},
   "outputs": [
    {
     "name": "stdout",
     "output_type": "stream",
     "text": [
      "2\n",
      "3\n",
      "5\n",
      "8\n",
      "13\n",
      "21\n"
     ]
    }
   ],
   "source": [
    "def alt_fib(n,computed={0:2,1:3}):\n",
    "    if n not in computed:\n",
    "        computed[n] = alt_fib(n-1, computed) + alt_fib(n-2, computed)\n",
    "    return computed[n]\n",
    "    # implement this\n",
    "    \n",
    "    pass\n",
    "\n",
    "# Test the function with some values\n",
    "print(alt_fib(0))  # Expected output: 2\n",
    "print(alt_fib(1))  # Expected output: 3\n",
    "print(alt_fib(2))  # Expected output: 5\n",
    "print(alt_fib(3))  # Expected output: 8\n",
    "print(alt_fib(4))  # Expected output: 13\n",
    "print(alt_fib(5))  # Expected output: 21"
   ]
  },
  {
   "cell_type": "code",
   "execution_count": 2,
   "metadata": {},
   "outputs": [
    {
     "name": "stdout",
     "output_type": "stream",
     "text": [
      "[2, 6, 24]\n",
      "[1, 120, 720]\n",
      "[1, 'Error', 3628800]\n"
     ]
    }
   ],
   "source": [
    "def factorial(num):\n",
    "    # implement this\n",
    "    if num == 0 or num == 1:\n",
    "        return 1\n",
    "        \n",
    "    elif num < 0:\n",
    "        return 'Error'\n",
    "    else:\n",
    "        return num * factorial(num-1)\n",
    "    pass\n",
    "\n",
    "def factorials(nums):\n",
    "    return [factorial(num) if factorial(num) is not None else 'Error' for num in nums]\n",
    "\n",
    "print(factorials([2, 3, 4])) # should print: [2, 6, 24]\n",
    "print(factorials([1, 5, 6])) # should print: [1, 120, 720]\n",
    "print(factorials([0, -3, 10])) # should print: [1, 'Error', 3628800]"
   ]
  }
 ],
 "metadata": {
  "kernelspec": {
   "display_name": "base",
   "language": "python",
   "name": "python3"
  },
  "language_info": {
   "codemirror_mode": {
    "name": "ipython",
    "version": 3
   },
   "file_extension": ".py",
   "mimetype": "text/x-python",
   "name": "python",
   "nbconvert_exporter": "python",
   "pygments_lexer": "ipython3",
   "version": "3.11.7"
  }
 },
 "nbformat": 4,
 "nbformat_minor": 2
}
