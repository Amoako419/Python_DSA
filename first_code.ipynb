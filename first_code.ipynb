{
 "cells": [
  {
   "cell_type": "code",
   "execution_count": 1,
   "metadata": {},
   "outputs": [
    {
     "name": "stdout",
     "output_type": "stream",
     "text": [
      "Falcon 1: First privately developed liquid-fueled rocket\n",
      "Atlas V: Launch vehicle for Mars Rovers\n",
      "Saturn V: Rocket that took humans to the Moon\n",
      "Space Shuttle: First reusable spacecraft\n"
     ]
    }
   ],
   "source": [
    "def print_dict_elements(dct):\n",
    "    for key, value in dct.items():\n",
    "        print(f\"{key}: {value}\")\n",
    "\n",
    "# Dictionary containing information about rockets\n",
    "rocket_info = {\n",
    "    \"Falcon 1\": \"First privately developed liquid-fueled rocket\",\n",
    "    \"Atlas V\": \"Launch vehicle for Mars Rovers\",\n",
    "    \"Saturn V\": \"Rocket that took humans to the Moon\",\n",
    "    \"Space Shuttle\": \"First reusable spacecraft\"\n",
    "}\n",
    "\n",
    "print_dict_elements(rocket_info)"
   ]
  },
  {
   "cell_type": "code",
   "execution_count": 2,
   "metadata": {},
   "outputs": [
    {
     "name": "stdout",
     "output_type": "stream",
     "text": [
      "Mercury: The smallest planet\n",
      "Venus: The hottest planet\n",
      "Earth: Our home\n",
      "Mars: The Red Planet\n",
      "Jupiter: The largest planet\n",
      "Saturn: Known for its rings\n",
      "Uranus: An ice giant\n",
      "Neptune: The farthest planet\n",
      "Pluto: A dwarf planet\n"
     ]
    }
   ],
   "source": [
    "def print_space_elements(space_dict):\n",
    "    for key,value in space_dict.items():\n",
    "        print(f\"{key}: {value}\")\n",
    "\n",
    "# Example usage\n",
    "space_data = {\n",
    "    \"Mercury\": \"The smallest planet\",\n",
    "    \"Venus\": \"The hottest planet\",\n",
    "    \"Earth\": \"Our home\",\n",
    "    \"Mars\": \"The Red Planet\",\n",
    "    \"Jupiter\": \"The largest planet\",\n",
    "    \"Saturn\": \"Known for its rings\",\n",
    "    \"Uranus\": \"An ice giant\",\n",
    "    \"Neptune\": \"The farthest planet\",\n",
    "    \"Pluto\": \"A dwarf planet\"\n",
    "}\n",
    "\n",
    "print_space_elements(space_data)"
   ]
  }
 ],
 "metadata": {
  "kernelspec": {
   "display_name": "Python 3",
   "language": "python",
   "name": "python3"
  },
  "language_info": {
   "codemirror_mode": {
    "name": "ipython",
    "version": 3
   },
   "file_extension": ".py",
   "mimetype": "text/x-python",
   "name": "python",
   "nbconvert_exporter": "python",
   "pygments_lexer": "ipython3",
   "version": "3.12.0"
  }
 },
 "nbformat": 4,
 "nbformat_minor": 2
}
