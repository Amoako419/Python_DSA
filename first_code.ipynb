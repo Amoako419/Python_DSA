{
 "cells": [
  {
   "cell_type": "code",
   "execution_count": 1,
   "metadata": {},
   "outputs": [
    {
     "name": "stdout",
     "output_type": "stream",
     "text": [
      "Falcon 1: First privately developed liquid-fueled rocket\n",
      "Atlas V: Launch vehicle for Mars Rovers\n",
      "Saturn V: Rocket that took humans to the Moon\n",
      "Space Shuttle: First reusable spacecraft\n"
     ]
    }
   ],
   "source": [
    "def print_dict_elements(dct):\n",
    "    for key, value in dct.items():\n",
    "        print(f\"{key}: {value}\")\n",
    "\n",
    "# Dictionary containing information about rockets\n",
    "rocket_info = {\n",
    "    \"Falcon 1\": \"First privately developed liquid-fueled rocket\",\n",
    "    \"Atlas V\": \"Launch vehicle for Mars Rovers\",\n",
    "    \"Saturn V\": \"Rocket that took humans to the Moon\",\n",
    "    \"Space Shuttle\": \"First reusable spacecraft\"\n",
    "}\n",
    "\n",
    "print_dict_elements(rocket_info)"
   ]
  }
 ],
 "metadata": {
  "kernelspec": {
   "display_name": "Python 3",
   "language": "python",
   "name": "python3"
  },
  "language_info": {
   "codemirror_mode": {
    "name": "ipython",
    "version": 3
   },
   "file_extension": ".py",
   "mimetype": "text/x-python",
   "name": "python",
   "nbconvert_exporter": "python",
   "pygments_lexer": "ipython3",
   "version": "3.12.0"
  }
 },
 "nbformat": 4,
 "nbformat_minor": 2
}
