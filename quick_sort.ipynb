{
 "cells": [
  {
   "cell_type": "code",
   "execution_count": 1,
   "metadata": {},
   "outputs": [
    {
     "name": "stdout",
     "output_type": "stream",
     "text": [
      "Unsorted list: [9, 43, 97, 11, 45, 78, 1, 61, 59, 89, 14, 91, 18, 22, 83, 29, 50, 84, 54, 93]\n",
      "Sorted list with Quick Sort: [1, 9, 11, 14, 18, 22, 29, 43, 45, 50, 54, 59, 61, 78, 83, 84, 89, 91, 93, 97]\n"
     ]
    }
   ],
   "source": [
    "# Import required libraries\n",
    "import random \n",
    "\n",
    "def partition(arr, low, high):\n",
    "    # this method partitions arr[low..high] to move all elements <= arr[high] to the left\n",
    "    # and returns the index of `pivot` in the updated array\n",
    "    pivot = arr[high]\n",
    "    i = low - 1\n",
    "    for j in range(low, high):\n",
    "        if arr[j] <= pivot:\n",
    "            i += 1\n",
    "            arr[i], arr[j] = arr[j], arr[i]\n",
    "    arr[i + 1], arr[high] = arr[high], arr[i + 1]\n",
    "    return i + 1\n",
    "\n",
    "def quick_sort(arr, low, high):\n",
    "    if low < high:\n",
    "        pi = partition(arr, low, high)\n",
    "        quick_sort(arr, low, pi - 1)\n",
    "        quick_sort(arr, pi + 1, high)\n",
    "        \n",
    "# Generate a list of random numbers between 1 and 100\n",
    "random_list = random.sample(range(1, 101), 20)\n",
    "print('Unsorted list:', random_list)\n",
    "\n",
    "quick_sort(random_list, 0, len(random_list) - 1)\n",
    "print('Sorted list with Quick Sort:', random_list)"
   ]
  }
 ],
 "metadata": {
  "kernelspec": {
   "display_name": "base",
   "language": "python",
   "name": "python3"
  },
  "language_info": {
   "codemirror_mode": {
    "name": "ipython",
    "version": 3
   },
   "file_extension": ".py",
   "mimetype": "text/x-python",
   "name": "python",
   "nbconvert_exporter": "python",
   "pygments_lexer": "ipython3",
   "version": "3.11.7"
  }
 },
 "nbformat": 4,
 "nbformat_minor": 2
}
