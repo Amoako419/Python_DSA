{
 "cells": [
  {
   "cell_type": "code",
   "execution_count": 1,
   "metadata": {},
   "outputs": [
    {
     "name": "stdout",
     "output_type": "stream",
     "text": [
      "Unsorted list: [9, 43, 97, 11, 45, 78, 1, 61, 59, 89, 14, 91, 18, 22, 83, 29, 50, 84, 54, 93]\n",
      "Sorted list with Quick Sort: [1, 9, 11, 14, 18, 22, 29, 43, 45, 50, 54, 59, 61, 78, 83, 84, 89, 91, 93, 97]\n"
     ]
    }
   ],
   "source": [
    "# Import required libraries\n",
    "import random \n",
    "\n",
    "def partition(arr, low, high):\n",
    "    # this method partitions arr[low..high] to move all elements <= arr[high] to the left\n",
    "    # and returns the index of `pivot` in the updated array\n",
    "    pivot = arr[high]\n",
    "    i = low - 1\n",
    "    for j in range(low, high):\n",
    "        if arr[j] <= pivot:\n",
    "            i += 1\n",
    "            arr[i], arr[j] = arr[j], arr[i]\n",
    "    arr[i + 1], arr[high] = arr[high], arr[i + 1]\n",
    "    return i + 1\n",
    "\n",
    "def quick_sort(arr, low, high):\n",
    "    if low < high:\n",
    "        pi = partition(arr, low, high)\n",
    "        quick_sort(arr, low, pi - 1)\n",
    "        quick_sort(arr, pi + 1, high)\n",
    "        \n",
    "# Generate a list of random numbers between 1 and 100\n",
    "random_list = random.sample(range(1, 101), 20)\n",
    "print('Unsorted list:', random_list)\n",
    "\n",
    "quick_sort(random_list, 0, len(random_list) - 1)\n",
    "print('Sorted list with Quick Sort:', random_list)"
   ]
  },
  {
   "cell_type": "code",
   "execution_count": 1,
   "metadata": {},
   "outputs": [
    {
     "name": "stdout",
     "output_type": "stream",
     "text": [
      "Original List: [1, 2, 3, 4, 5, 6, 7, 8, 9, 10, 11, 12, 13, 14, 15, 16, 17, 18, 19, 20, 21, 22, 23, 24, 25, 26, 27, 28, 29, 30]\n",
      "Sorted List: [30, 29, 28, 27, 26, 25, 24, 23, 22, 21, 20, 19, 18, 17, 16, 15, 14, 13, 12, 11, 10, 9, 8, 7, 6, 5, 4, 3, 2, 1]\n"
     ]
    }
   ],
   "source": [
    "import random\n",
    "\n",
    "def partition(lst, low, high):\n",
    "    \"\"\"\n",
    "    Helper function to partition the list on the basis of pivot\n",
    "    \"\"\"\n",
    "    pivot = lst[high]\n",
    "    idx = low - 1\n",
    "    for j in range(low, high):\n",
    "        if lst[j] >= pivot:  # Changed here: compare if element is greater than or equal to pivot\n",
    "            idx += 1\n",
    "            lst[idx], lst[j] = lst[j], lst[idx]\n",
    "    lst[idx + 1], lst[high] = lst[high], lst[idx + 1]\n",
    "    return idx + 1\n",
    "\n",
    "def quick_sort(lst, low, high):\n",
    "    \"\"\"\n",
    "    Applying Quick Sort\n",
    "    \"\"\"\n",
    "    if len(lst) == 1:\n",
    "        return lst\n",
    "    if low < high:\n",
    "        pi = partition(lst, low, high)\n",
    "        quick_sort(lst, low, pi - 1)\n",
    "        quick_sort(lst, pi + 1, high)\n",
    "\n",
    "# Generate a list of numbers from 1 to 30\n",
    "numbers = [i for i in range(1, 31)]\n",
    "\n",
    "# Print the original list\n",
    "print(\"Original List:\", numbers)\n",
    "\n",
    "# Use Quick Sort on the list\n",
    "quick_sort(numbers, 0, len(numbers) - 1)\n",
    "\n",
    "# Print the sorted list\n",
    "print(\"Sorted List:\", numbers)"
   ]
  },
  {
   "cell_type": "code",
   "execution_count": 2,
   "metadata": {},
   "outputs": [
    {
     "name": "stdout",
     "output_type": "stream",
     "text": [
      "Original List:  [32, 26, 25, 16, 10, 33, 49, 24, 32, 44, 32, 41, 18, 26, 38]\n",
      "List After Quick Sort:  [10, 16, 18, 24, 25, 26, 26, 32, 32, 32, 33, 38, 41, 44, 49]\n"
     ]
    }
   ],
   "source": [
    "import random\n",
    "\n",
    "def partition(arr, low, high):\n",
    "    pivot = arr[high]\n",
    "    i = low - 1  # Initialize i to low - 1\n",
    "\n",
    "    for j in range(low, high):\n",
    "        if arr[j] <= pivot:\n",
    "            i += 1\n",
    "            arr[i], arr[j] = arr[j], arr[i]\n",
    "\n",
    "    arr[i + 1], arr[high] = arr[high], arr[i + 1]\n",
    "    return i + 1\n",
    "\n",
    "def quick_sort(arr, low, high):\n",
    "    if low < high:\n",
    "        pi = partition(arr, low, high)\n",
    "        quick_sort(arr, low, pi - 1)\n",
    "        quick_sort(arr, pi + 1, high)\n",
    "\n",
    "# Generate a list of random numbers between 10 and 50\n",
    "random_list = [random.randint(10, 50) for i in range(15)]\n",
    "\n",
    "print(\"Original List: \", random_list)\n",
    "\n",
    "quick_sort(random_list, 0, len(random_list) - 1)\n",
    "print(\"List After Quick Sort: \", random_list)"
   ]
  },
  {
   "cell_type": "code",
   "execution_count": 3,
   "metadata": {},
   "outputs": [
    {
     "name": "stdout",
     "output_type": "stream",
     "text": [
      "Unsorted List:  [17, 41, 27, 21, 34, 43, 26, 25, 5, 8, 50, 14, 20, 40, 25]\n",
      "Sorted List : [5, 8, 14, 17, 20, 21, 25, 25, 26, 27, 34, 40, 41, 43, 50]\n"
     ]
    }
   ],
   "source": [
    "import random \n",
    "\n",
    "# TODO: Implement the Quick Sort function\n",
    "def quick_sort(arr):\n",
    "    if len(arr) <= 1:\n",
    "        return arr\n",
    "    pivot = arr[len(arr) // 2]\n",
    "    left = [x for x in arr if x < pivot]\n",
    "    middle = [x for x in arr if x == pivot]\n",
    "    right = [x for x in arr if x > pivot]\n",
    "    return quick_sort(left) + middle + quick_sort(right)\n",
    "\n",
    "random_numbers = [random.randint(1, 50) for _ in range(15)]\n",
    "print(\"Unsorted List: \", random_numbers)\n",
    "\n",
    "# TODO: Use the Quick Sort function to sort the list and print the sorted list\n",
    "sorted_numbers = quick_sort(random_numbers)\n",
    "print(f\"Sorted List : {sorted_numbers}\")"
   ]
  },
  {
   "cell_type": "code",
   "execution_count": null,
   "metadata": {},
   "outputs": [],
   "source": [
    "import random\n",
    "\n",
    "# TODO: Define the 'quick_sort_desc' and 'partition_desc' functions to implement Quick Sort in descending order\n",
    "def partition(lst, low, high):\n",
    "    \"\"\"\n",
    "    Helper function to partition the list on the basis of pivot\n",
    "    \"\"\"\n",
    "    pivot = lst[high]\n",
    "    idx = low - 1\n",
    "    for j in range(low, high):\n",
    "        if lst[j] >= pivot:  # Changed here: compare if element is greater than or equal to pivot\n",
    "            idx += 1\n",
    "            lst[idx], lst[j] = lst[j], lst[idx]\n",
    "    lst[idx + 1], lst[high] = lst[high], lst[idx + 1]\n",
    "    return idx + 1\n",
    "\n",
    "def quick_sort(lst, low, high):\n",
    "    \"\"\"\n",
    "    Applying Quick Sort\n",
    "    \"\"\"\n",
    "    if len(lst) == 1:\n",
    "        return lst\n",
    "    if low < high:\n",
    "        pi = partition(lst, low, high)\n",
    "        quick_sort(lst, low, pi - 1)\n",
    "        quick_sort(lst, pi + 1, high)\n",
    "# Generate a list of 20 random numbers between 50 and 100\n",
    "random_numbers = [random.randint(50, 100) for _ in range(20)]\n",
    "print(\"Unsorted List: \", random_numbers)\n",
    "\n",
    "# TODO: Use the Quick Sort function to sort the list in descending order and print the sorted list\n",
    "quick_sort(random_numbers, 0, len(random_numbers) - 1)\n",
    "\n",
    "# Print the sorted list\n",
    "print(\"Sorted List:\", random_numbers)"
   ]
  }
 ],
 "metadata": {
  "kernelspec": {
   "display_name": "base",
   "language": "python",
   "name": "python3"
  },
  "language_info": {
   "codemirror_mode": {
    "name": "ipython",
    "version": 3
   },
   "file_extension": ".py",
   "mimetype": "text/x-python",
   "name": "python",
   "nbconvert_exporter": "python",
   "pygments_lexer": "ipython3",
   "version": "3.11.7"
  }
 },
 "nbformat": 4,
 "nbformat_minor": 2
}
