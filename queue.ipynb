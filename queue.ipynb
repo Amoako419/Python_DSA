{
 "cells": [
  {
   "cell_type": "code",
   "execution_count": 1,
   "metadata": {},
   "outputs": [
    {
     "name": "stdout",
     "output_type": "stream",
     "text": [
      "Initial queue is empty: deque([])\n",
      "Queue after enqueue operations: deque(['Task1', 'Task2', 'Task3'])\n",
      "Performing: Task1\n",
      "Queue after removing Task1 : deque(['Task2', 'Task3'])\n",
      "Performing: Task2\n",
      "Queue after removing Task2 : deque(['Task3'])\n",
      "Performing: Task3\n",
      "Queue after removing Task3 : deque([])\n",
      "All tasks have been performed!\n"
     ]
    }
   ],
   "source": [
    "from collections import deque\n",
    "\n",
    "# Our queue is represented as a Python collections deque\n",
    "queue = deque()\n",
    "\n",
    "print(\"Initial queue is empty:\", queue)\n",
    "\n",
    "# We add some elements to the queue\n",
    "queue.append('Task1')\n",
    "queue.append('Task2')\n",
    "queue.append('Task3')\n",
    "print(\"Queue after enqueue operations:\", queue)\n",
    "\n",
    "# We perform tasks one by one in order of addition to the queue\n",
    "while queue:\n",
    "    task = queue.popleft()  # This should always remove the first task\n",
    "    print(f'Performing: {task}')\n",
    "    print(\"Queue after removing\", task, \":\", queue)\n",
    "\n",
    "# Now the queue is again empty\n",
    "assert not queue, \"The queue should be empty after all tasks have been performed\"\n",
    "print(\"All tasks have been performed!\")\n"
   ]
  },
  {
   "cell_type": "code",
   "execution_count": 2,
   "metadata": {},
   "outputs": [
    {
     "name": "stdout",
     "output_type": "stream",
     "text": [
      "Initial queue is empty: deque([])\n",
      "Queue after enqueue operations: deque(['Issue1', 'Issue2', 'Issue3', 'Issue4', 'Issue5'])\n",
      "Resolving: Issue1\n",
      "Queue after resolving Issue1 : deque(['Issue2', 'Issue3', 'Issue4', 'Issue5'])\n",
      "Resolving: Issue2\n",
      "Queue after resolving Issue2 : deque(['Issue3', 'Issue4', 'Issue5'])\n",
      "Resolving: Issue3\n",
      "Queue after resolving Issue3 : deque(['Issue4', 'Issue5'])\n",
      "Resolving: Issue4\n",
      "Queue after resolving Issue4 : deque(['Issue5'])\n",
      "Resolving: Issue5\n",
      "Queue after resolving Issue5 : deque([])\n",
      "All issues have been resolved!\n"
     ]
    }
   ],
   "source": [
    "from collections import deque\n",
    "\n",
    "# Our queue is represented as a Python deque\n",
    "issue_queue = deque()\n",
    "\n",
    "print(\"Initial queue is empty:\", issue_queue)\n",
    "\n",
    "# We add some issues to the queue\n",
    "issue_queue.append('Issue1')\n",
    "issue_queue.append('Issue2')\n",
    "issue_queue.append('Issue3')\n",
    "issue_queue.append('Issue4')\n",
    "issue_queue.append('Issue5')\n",
    "\n",
    "print(\"Queue after enqueue operations:\", issue_queue)\n",
    "\n",
    "# We resolve issues one by one in order of their reporting\n",
    "while issue_queue:\n",
    "    issue = issue_queue.popleft()  # This will always remove the first issue reported\n",
    "    print(f'Resolving: {issue}')\n",
    "    print(\"Queue after resolving\", issue, \":\", issue_queue)\n",
    "\n",
    "# Now the queue is again empty\n",
    "assert len(issue_queue) == 0, \"The queue should be empty after all issues have been resolved\"\n",
    "print(\"All issues have been resolved!\")\n"
   ]
  },
  {
   "cell_type": "code",
   "execution_count": 3,
   "metadata": {},
   "outputs": [
    {
     "name": "stdout",
     "output_type": "stream",
     "text": [
      "Initial queue:  deque([])\n",
      "Queue after enqueue operations:  deque(['Task1', 'Task2', 'Task3'])\n",
      "Queue after adding more tasks:  deque(['Task1', 'Task2', 'Task3', 'Task4', 'Task5'])\n",
      "\n",
      "Now performing: Task1\n",
      "Task1 will be complete in 1 seconds...\n",
      "Task1 is complete!\n",
      "Queue after dequeue operation:  deque(['Task2', 'Task3', 'Task4', 'Task5'])\n",
      "\n",
      "Now performing: Task2\n",
      "Task2 will be complete in 1 seconds...\n",
      "Task2 is complete!\n",
      "Queue after dequeue operation:  deque(['Task3', 'Task4', 'Task5'])\n",
      "\n",
      "Now performing: Task3\n",
      "Task3 will be complete in 1 seconds...\n",
      "Task3 is complete!\n",
      "Queue after dequeue operation:  deque(['Task4', 'Task5'])\n",
      "\n",
      "Now performing: Task4\n",
      "Task4 will be complete in 1 seconds...\n",
      "Task4 is complete!\n",
      "Queue after dequeue operation:  deque(['Task5'])\n",
      "\n",
      "Now performing: Task5\n",
      "Task5 will be complete in 1 seconds...\n",
      "Task5 is complete!\n",
      "Queue after dequeue operation:  deque([])\n",
      "\n",
      "All tasks have been performed! The queue is now empty.\n"
     ]
    }
   ],
   "source": [
    "# Import required libraries\n",
    "import time\n",
    "from collections import deque\n",
    "\n",
    "# Define an empty deque to represent our queue\n",
    "queue = deque([])\n",
    "\n",
    "# The initial queue is empty\n",
    "print(\"Initial queue: \", queue)\n",
    "\n",
    "# We add some elements to the queue\n",
    "queue.append(\"Task1\")\n",
    "queue.append(\"Task2\")\n",
    "queue.append(\"Task3\")\n",
    "\n",
    "print(\"Queue after enqueue operations: \", queue)\n",
    "\n",
    "# Additional tasks join the queue while processing earlier tasks\n",
    "queue.append(\"Task4\")\n",
    "queue.append(\"Task5\")\n",
    "\n",
    "print(\"Queue after adding more tasks: \", queue)\n",
    "\n",
    "# Process tasks one by one\n",
    "while queue:\n",
    "    # This should always remove the first task\n",
    "    current_task = queue.popleft()\n",
    "    print(f\"\\nNow performing: {current_task}\")\n",
    "\n",
    "    # Simulate time delay for performing a task\n",
    "    for i in range(3, 0, -1):\n",
    "        print(f\"{current_task} will be complete in {i} seconds...\", end='\\r')\n",
    "        time.sleep(1)\n",
    "\n",
    "    print(f\"\\n{current_task} is complete!\")\n",
    "    print(\"Queue after dequeue operation: \", queue)\n",
    "\n",
    "# Queue should be empty after all tasks are done\n",
    "assert len(queue) == 0, \"The queue should be empty after all tasks have been performed\"\n",
    "\n",
    "print(\"\\nAll tasks have been performed! The queue is now empty.\")"
   ]
  }
 ],
 "metadata": {
  "kernelspec": {
   "display_name": "base",
   "language": "python",
   "name": "python3"
  },
  "language_info": {
   "codemirror_mode": {
    "name": "ipython",
    "version": 3
   },
   "file_extension": ".py",
   "mimetype": "text/x-python",
   "name": "python",
   "nbconvert_exporter": "python",
   "pygments_lexer": "ipython3",
   "version": "3.11.7"
  }
 },
 "nbformat": 4,
 "nbformat_minor": 2
}
