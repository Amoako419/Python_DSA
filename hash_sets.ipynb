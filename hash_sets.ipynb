{
 "cells": [
  {
   "cell_type": "code",
   "execution_count": 1,
   "metadata": {},
   "outputs": [
    {
     "name": "stdout",
     "output_type": "stream",
     "text": [
      "Hash Set Test Result: False\n",
      "Searching in the Hash Set Took: 0.00019288063049316406\n",
      "List Test Result: False\n",
      "Searching in the List Took: 0.1782698631286621\n"
     ]
    }
   ],
   "source": [
    "# Define a function to demonstrate the operation and time complexity of a hash set\n",
    "def hash_set_operations():\n",
    "  \n",
    "    # Importing the necessary libraries\n",
    "    import time\n",
    "    \n",
    "    # Create a hash set and a list\n",
    "    hash_set = set()\n",
    "    list_data = []\n",
    "    \n",
    "    # Setting the range for the data elements\n",
    "    data_range = 10**7\n",
    "    \n",
    "    # Adding elements to the hash set and the list\n",
    "    for i in range(data_range):\n",
    "        hash_set.add(i)\n",
    "        list_data.append(i)\n",
    "        \n",
    "    # Define a test element (which is out of the data range and thus is not present in both the list and set)\n",
    "    test_element = data_range + 1\n",
    "    \n",
    "    # Start the clock and check for the presence of the test elements in the set\n",
    "    start_time = time.time()\n",
    "    print(\"Hash Set Test Result:\", test_element in hash_set)\n",
    "    print(\"Searching in the Hash Set Took:\", time.time() - start_time)\n",
    "  \n",
    "    # Start the clock and check for the presence of the test elements in the list\n",
    "    start_time = time.time()\n",
    "    print(\"List Test Result:\", test_element in list_data)\n",
    "    print(\"Searching in the List Took:\", time.time() - start_time)\n",
    "\n",
    "# Call the function\n",
    "hash_set_operations()"
   ]
  },
  {
   "cell_type": "code",
   "execution_count": null,
   "metadata": {},
   "outputs": [],
   "source": [
    "# Importing the necessary module\n",
    "import time\n",
    "\n",
    "# Define a function to demonstrate the operation and time complexity of hash sets\n",
    "def hash_set_operations():\n",
    "  \n",
    "    # Create a new hash set \n",
    "    names_set = set()\n",
    "\n",
    "    # Setting the range for the data elements\n",
    "    data_range = 10**7\n",
    "\n",
    "    # Constructing a unique names list\n",
    "    unique_names = ['Name' + str(i) for i in range(data_range)]\n",
    "\n",
    "    # Adding elements to the set\n",
    "    for i in range(data_range):\n",
    "        names_set.add(unique_names[i])\n",
    "\n",
    "    # Define a test element (which is out of the data range and thus is not present in the set)\n",
    "    test_name = 'Name' + str(data_range + 1)\n",
    "\n",
    "    # Define a test element that should exist\n",
    "    test_name2 = 'Name' + str(data_range - 1)\n",
    "\n",
    "    # Start the clock and check for the presence of the test elements in the set\n",
    "    start_time = time.time()\n",
    "    print(\"Hash Set Test Result 1:\", test_name in names_set)\n",
    "    print(\"Hash Set Test Result 2:\", test_name2 in names_set)\n",
    "    print(\"Searching in the Hash Set Took:\", time.time() - start_time)\n",
    "\n",
    "# Call the function\n",
    "hash_set_operations()"
   ]
  }
 ],
 "metadata": {
  "kernelspec": {
   "display_name": "Python 3",
   "language": "python",
   "name": "python3"
  },
  "language_info": {
   "codemirror_mode": {
    "name": "ipython",
    "version": 3
   },
   "file_extension": ".py",
   "mimetype": "text/x-python",
   "name": "python",
   "nbconvert_exporter": "python",
   "pygments_lexer": "ipython3",
   "version": "3.12.0"
  }
 },
 "nbformat": 4,
 "nbformat_minor": 2
}
