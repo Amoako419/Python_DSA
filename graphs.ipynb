{
 "cells": [
  {
   "cell_type": "code",
   "execution_count": 1,
   "metadata": {},
   "outputs": [
    {
     "name": "stdout",
     "output_type": "stream",
     "text": [
      "[0, 1, 1, 0, 0]\n",
      "[1, 0, 1, 1, 0]\n",
      "[1, 1, 0, 0, 1]\n",
      "[0, 1, 0, 0, 0]\n",
      "[0, 0, 1, 0, 0]\n",
      "Based on the mutual friends, User A and User D may know each other.\n",
      "Based on the mutual friends, User A and User E may know each other.\n",
      "Based on the mutual friends, User B and User E may know each other.\n",
      "Based on the mutual friends, User C and User D may know each other.\n",
      "Based on the mutual friends, User D and User A may know each other.\n",
      "Based on the mutual friends, User D and User C may know each other.\n",
      "Based on the mutual friends, User E and User A may know each other.\n",
      "Based on the mutual friends, User E and User B may know each other.\n"
     ]
    }
   ],
   "source": [
    "# Let's consider a different graph for 5 people: A: 0, B: 1, C: 2, D: 3, E: 4\n",
    "# A is friends with B and C\n",
    "# B is friends with A, C and D\n",
    "# C is friends with A, B and E\n",
    "# D is friends with B\n",
    "# E is friends with C\n",
    "\n",
    "# Number of people\n",
    "n = 5\n",
    "users = ['A', 'B', 'C', 'D', 'E']\n",
    "\n",
    "# Initialize the adjacency matrix\n",
    "M = [[0] * n for _ in range(n)]\n",
    "\n",
    "# Map the relationships\n",
    "# A\n",
    "M[0][1] = M[0][2] = 1\n",
    "# B\n",
    "M[1][0] = M[1][2] = M[1][3] = 1\n",
    "# C\n",
    "M[2][0] = M[2][1] = M[2][4] = 1\n",
    "# D\n",
    "M[3][1] = 1\n",
    "# E\n",
    "M[4][2] = 1\n",
    "\n",
    "# Print the Graph\n",
    "for row in range(n):\n",
    "    print(M[row])\n",
    "\n",
    "# Suggest friends for each user, avoiding cases where users are suggested to be friends with themselves\n",
    "for i in range(n):\n",
    "    for j in range(n):\n",
    "        if i != j:\n",
    "            if M[i][j] == 0 and any(M[i][k] and M[k][j] for k in range(n)):\n",
    "                print(\n",
    "                    f\"Based on the mutual friends, \"\n",
    "                    f\"User {users[i]} and User {users[j]} may know each other.\"\n",
    "                )"
   ]
  },
  {
   "cell_type": "code",
   "execution_count": 1,
   "metadata": {},
   "outputs": [
    {
     "name": "stdout",
     "output_type": "stream",
     "text": [
      "[0, 1, 1, 1, 1, 1]\n",
      "[1, 0, 0, 0, 1, 0]\n",
      "[1, 0, 0, 0, 0, 0]\n",
      "[1, 0, 0, 0, 0, 0]\n",
      "[1, 1, 0, 0, 0, 0]\n",
      "[1, 0, 0, 0, 0, 0]\n",
      "Based on mutual friends, User B and User C might know each other.\n",
      "Based on mutual friends, User B and User D might know each other.\n",
      "Based on mutual friends, User B and User F might know each other.\n",
      "Based on mutual friends, User C and User B might know each other.\n",
      "Based on mutual friends, User C and User D might know each other.\n",
      "Based on mutual friends, User C and User E might know each other.\n",
      "Based on mutual friends, User C and User F might know each other.\n",
      "Based on mutual friends, User D and User B might know each other.\n",
      "Based on mutual friends, User D and User C might know each other.\n",
      "Based on mutual friends, User D and User E might know each other.\n",
      "Based on mutual friends, User D and User F might know each other.\n",
      "Based on mutual friends, User E and User C might know each other.\n",
      "Based on mutual friends, User E and User D might know each other.\n",
      "Based on mutual friends, User E and User F might know each other.\n",
      "Based on mutual friends, User F and User B might know each other.\n",
      "Based on mutual friends, User F and User C might know each other.\n",
      "Based on mutual friends, User F and User D might know each other.\n",
      "Based on mutual friends, User F and User E might know each other.\n"
     ]
    }
   ],
   "source": [
    "# Trying to unearth possible friends within our social network\n",
    "# We have 6 people at a party. A knows everybody, yet E is a bit shy and only knows A.\n",
    "\n",
    "# A: 0, B: 1, C: 2, D: 3, E: 4, F: 5,\n",
    "# Let's put this into an adjacency matrix\n",
    "\n",
    "# Number of people\n",
    "n = 6\n",
    "users = ['A', 'B', 'C', 'D', 'E', 'F']\n",
    "\n",
    "# Initialize the adjacency matrix\n",
    "M = [[0] * n for _ in range(n)]\n",
    "\n",
    "# Map the relationships\n",
    "# A knows B, C, D, E, F\n",
    "M[0][1] = M[0][2] = M[0][3] = M[0][4] = M[0][5] = 1\n",
    "\n",
    "# B, C, D, E, F know A\n",
    "M[1][0] = M[2][0] = M[3][0] = M[4][0] = M[5][0] = 1\n",
    "\n",
    "# E knows A and B\n",
    "M[4][1] = M[1][4] = 1\n",
    "\n",
    "# Print the Graph\n",
    "for row in range(n):\n",
    "    print(M[row])\n",
    "\n",
    "# Suggest friends for each user, avoiding cases where users are suggested to be friends with themselves\n",
    "for i in range(n):\n",
    "    for j in range(n):\n",
    "        if i != j:\n",
    "            if M[i][j] == 0 and any(M[i][k] and M[k][j] for k in range(n)):\n",
    "                print(\n",
    "                    f\"Based on mutual friends, \"\n",
    "                    f\"User {users[i]} and User {users[j]} might know each other.\"\n",
    "                )"
   ]
  },
  {
   "cell_type": "code",
   "execution_count": 2,
   "metadata": {},
   "outputs": [
    {
     "name": "stdout",
     "output_type": "stream",
     "text": [
      "[0, 1, 0, 1, 1]\n",
      "[1, 0, 1, 1, 0]\n",
      "[0, 1, 0, 0, 0]\n",
      "[1, 1, 0, 0, 1]\n",
      "[1, 0, 0, 1, 0]\n",
      "Based on mutual friends, User Alice and User Carol might know each other.\n",
      "Based on mutual friends, User Bob and User Emma might know each other.\n",
      "Based on mutual friends, User Carol and User Alice might know each other.\n",
      "Based on mutual friends, User Carol and User David might know each other.\n",
      "Based on mutual friends, User David and User Carol might know each other.\n",
      "Based on mutual friends, User Emma and User Bob might know each other.\n"
     ]
    }
   ],
   "source": [
    "# Number of friends\n",
    "n = 5\n",
    "users = ['Alice', 'Bob', 'Carol', 'David', 'Emma']\n",
    "\n",
    "# Initialize the adjacency matrix\n",
    "M = [[0] * n for _ in range(n)]\n",
    "\n",
    "# Add relationships in the adjacency matrix\n",
    "# Alice\n",
    "M[0][1] = M[0][3] = M[0][4] = 1\n",
    "# Bob\n",
    "M[1][0] = M[1][2] = M[1][3] = 1\n",
    "# Carol\n",
    "M[1][2] = M[2][1] = 1\n",
    "# David\n",
    "M[3][0] = M[3][1] = M[3][4] = 1\n",
    "# Emma\n",
    "M[4][0] = M[4][3] = 1\n",
    "\n",
    "# Print the adjacency matrix\n",
    "for row in M:\n",
    "    print(row)\n",
    "\n",
    "# Suggest friends for each user, avoiding cases where users are suggested to be friends with themselves\n",
    "for i in range(n):\n",
    "    for j in range(n):\n",
    "        if i != j:\n",
    "            if M[i][j] == 0 and any(M[i][k] and M[k][j] for k in range(n)):\n",
    "                print(\n",
    "                    f\"Based on mutual friends, \"\n",
    "                    f\"User {users[i]} and User {users[j]} might know each other.\"\n",
    "                )"
   ]
  },
  {
   "cell_type": "code",
   "execution_count": 3,
   "metadata": {},
   "outputs": [
    {
     "name": "stdout",
     "output_type": "stream",
     "text": [
      "[0, 1, 0, 0, 0, 0, 0]\n",
      "[1, 0, 0, 0, 0, 0, 0]\n",
      "[0, 0, 0, 0, 0, 0, 1]\n",
      "[0, 0, 0, 0, 0, 0, 0]\n",
      "[0, 0, 0, 0, 0, 0, 0]\n",
      "[0, 0, 0, 0, 0, 0, 0]\n",
      "[0, 0, 1, 0, 0, 0, 0]\n"
     ]
    }
   ],
   "source": [
    "# Number of projects\n",
    "n = 7\n",
    "\n",
    "# Initialize the adjacency matrix\n",
    "M = [[0] * n for _ in range(n)]\n",
    "\n",
    "# TODO: Map the overlapping project teams in the adjacency matrix. Consider that projects that have overlapping team members are: \n",
    "# 1) projects at indices 0 and 1\n",
    "M[0][1] = M[1][0] = 1\n",
    "# 2) projects at indices 2 and 6 \n",
    "M[2][6] = M[6][2] = 1\n",
    "# Print the adjacency matrix\n",
    "for row in M:\n",
    "    print(row)"
   ]
  }
 ],
 "metadata": {
  "kernelspec": {
   "display_name": "base",
   "language": "python",
   "name": "python3"
  },
  "language_info": {
   "codemirror_mode": {
    "name": "ipython",
    "version": 3
   },
   "file_extension": ".py",
   "mimetype": "text/x-python",
   "name": "python",
   "nbconvert_exporter": "python",
   "pygments_lexer": "ipython3",
   "version": "3.11.7"
  }
 },
 "nbformat": 4,
 "nbformat_minor": 2
}
